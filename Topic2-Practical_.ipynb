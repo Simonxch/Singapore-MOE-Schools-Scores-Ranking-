{
 "cells": [
  {
   "cell_type": "markdown",
   "id": "747aaedc",
   "metadata": {},
   "source": [
    "# Task 3-1: Create 1-d numpy array\n",
    "\n",
    "Write Python code to create  1-d Numpy arrays containing the values as follows\n",
    "\n",
    "a)\t[0,1,2,3,4,5,6,7]\n",
    "b)\t['Mary', 'John', 'Peter', 'Christine']\n",
    "c)\t['2017-10-01', '2017-10-02', '2017-10-03',….., '2017-10-31'] \n",
    "d)\t10 random decimal numbers between 0  and 1"
   ]
  },
  {
   "cell_type": "code",
   "execution_count": 4,
   "id": "36cf3c01",
   "metadata": {},
   "outputs": [
    {
     "name": "stdout",
     "output_type": "stream",
     "text": [
      "[[0 1 2 3 4 5 6 7]]\n",
      "['Mary' 'John' 'Peter' 'Christine']\n",
      "['2017-10-01' '2017-10-02' '2017-10-03' '2017-10-04' '2017-10-05'\n",
      " '2017-10-06' '2017-10-07' '2017-10-08' '2017-10-09' '2017-10-10'\n",
      " '2017-10-11' '2017-10-12' '2017-10-13' '2017-10-14' '2017-10-15'\n",
      " '2017-10-16' '2017-10-17' '2017-10-18' '2017-10-19' '2017-10-20'\n",
      " '2017-10-21' '2017-10-22' '2017-10-23' '2017-10-24' '2017-10-25'\n",
      " '2017-10-26' '2017-10-27' '2017-10-28' '2017-10-29' '2017-10-30'\n",
      " '2017-10-31']\n",
      "[0 1 2 3 4 5 6 7 8 9]\n"
     ]
    }
   ],
   "source": [
    "# task 3-1\n",
    "import numpy as np\n",
    "\n",
    "a = np.array([(0,1,2,3,4,5,6,7)])\n",
    "b = np.array(['Mary', 'John', 'Peter', 'Christine'])\n",
    "c = np.arange('2017-10-01','2017-11-01',dtype='datetime64')\n",
    "d = np.arange(10)  \n",
    "\n",
    "print(a)\n",
    "print(b)\n",
    "print(c)\n",
    "print(d)"
   ]
  },
  {
   "cell_type": "code",
   "execution_count": 9,
   "id": "71df789d",
   "metadata": {},
   "outputs": [
    {
     "name": "stdout",
     "output_type": "stream",
     "text": [
      "[0 1 2 3 4 5 6 7]\n",
      "['Mary' 'John' 'Peter' 'Christine']\n",
      "['2017-10-01' '2017-10-02' '2017-10-03' '2017-10-04' '2017-10-05'\n",
      " '2017-10-06' '2017-10-07' '2017-10-08' '2017-10-09' '2017-10-10'\n",
      " '2017-10-11' '2017-10-12' '2017-10-13' '2017-10-14' '2017-10-15'\n",
      " '2017-10-16' '2017-10-17' '2017-10-18' '2017-10-19' '2017-10-20'\n",
      " '2017-10-21' '2017-10-22' '2017-10-23' '2017-10-24' '2017-10-25'\n",
      " '2017-10-26' '2017-10-27' '2017-10-28' '2017-10-29' '2017-10-30'\n",
      " '2017-10-31']\n",
      "[0 1 2 3 4 5 6 7 8 9]\n"
     ]
    }
   ],
   "source": [
    "# task 3-1\n",
    "\n",
    "import numpy as np\n",
    "\n",
    "a = np.arange(0,8)\n",
    "b = np.array(['Mary', 'John', 'Peter', 'Christine'])\n",
    "c = np.arange('2017-10-01','2017-11-01',dtype='datetime64')\n",
    "d = np.arange(10)  \n",
    "\n",
    "print(a)\n",
    "print(b)\n",
    "print(c)\n",
    "print(d)"
   ]
  },
  {
   "cell_type": "markdown",
   "id": "802da4d3",
   "metadata": {},
   "source": [
    "# Task 3-2: Create 2-d numpy array \n",
    "\n",
    "Write Python code to create  2-d Numpy arrays containing the values as follows\n",
    "\n",
    "a)\t2x4 array [(1,2,3,4), (5,6,7,8)]\n",
    "b)\t3x3 array [(1.6,1.7,1.8),(2.5,5.0,7.5),(20,40,60)]\n",
    "c)\t3x4 2-d array, with initial value zero\n",
    "d)\t4x3 2-d array with initial value 10.5\n",
    "e)\t4x8 array with random values between 1 and 6"
   ]
  },
  {
   "cell_type": "code",
   "execution_count": 12,
   "id": "b0107041",
   "metadata": {},
   "outputs": [
    {
     "name": "stdout",
     "output_type": "stream",
     "text": [
      "[[1 2 3 4]\n",
      " [5 6 7 8]]\n",
      "[[ 1.6  1.7  1.8]\n",
      " [ 2.5  5.   7.5]\n",
      " [20.  40.  60. ]]\n",
      "[[0. 0. 0. 0.]\n",
      " [0. 0. 0. 0.]\n",
      " [0. 0. 0. 0.]]\n",
      "[[10.5 10.5 10.5]\n",
      " [10.5 10.5 10.5]\n",
      " [10.5 10.5 10.5]\n",
      " [10.5 10.5 10.5]]\n",
      "[[6 5 3 5 6 4 3 5]\n",
      " [3 4 1 3 5 1 3 4]\n",
      " [6 2 3 1 4 2 3 5]\n",
      " [1 3 4 3 1 3 2 4]]\n"
     ]
    }
   ],
   "source": [
    "# task 3-2\n",
    "\n",
    "import numpy as np\n",
    "\n",
    "a = np.array([(1,2,3,4),\n",
    "              (5,6,7,8)])\n",
    "\n",
    "b = np.array([(1.6,1.7,1.8),\n",
    "              (2.5,5.0,7.5),\n",
    "              (20,40,60)])\n",
    "\n",
    "c = np.zeros((3,4))\n",
    "\n",
    "d = np.full((4,3), 10.5)\n",
    "\n",
    "e = np.random.randint(1,7,(4,8))  \n",
    "\n",
    "print(a)\n",
    "print(b)\n",
    "print(c)\n",
    "print(d)\n",
    "print(e)"
   ]
  },
  {
   "cell_type": "markdown",
   "id": "59d7ee9f",
   "metadata": {},
   "source": [
    "# Task 4-1: Use the  shape, ndim, size properties and len function\n",
    "\n",
    "Create 4 arrays with the values as shown in (a) to (d), then use the following properties and function on each array to inspect each one.  \n",
    "\n",
    "•\tshape property to find out the shape of the array\n",
    "•\tndim property to find out the number of dimensions of the array\n",
    "•\tsize property to find out the total number of elements in the array\n",
    "•\tlen function to find out the number of rows in the array\n",
    "\n",
    "(a)\t[1.55,1.73,1.9,1.72,1.66,1.8]\n",
    "(b)\t [('red', 'green', 'yellow', 'blue'),(True,False, False, True), ('2017-10-01', '2017-11-11', '2017-12-23', '2018-03-31')]\n",
    "(c)\t[[(10,9,8,7),(6,5,4,3)], [(1,2,3,4),(5,6,7,8)]]\n",
    "\t"
   ]
  },
  {
   "cell_type": "code",
   "execution_count": 19,
   "id": "0d5988b4",
   "metadata": {},
   "outputs": [
    {
     "name": "stdout",
     "output_type": "stream",
     "text": [
      "====shape====\n",
      "(6,)\n",
      "(3, 4)\n",
      "(2, 2, 4)\n",
      "====ndim====\n",
      "1\n",
      "2\n",
      "3\n",
      "====size====\n",
      "6\n",
      "12\n",
      "16\n",
      "====len====\n",
      "6\n",
      "3\n",
      "2\n"
     ]
    }
   ],
   "source": [
    "# task 4-1\n",
    "\n",
    "import numpy as np\n",
    "\n",
    "a = np.array([1.55,1.73,1.9,1.72,1.66,1.8])\n",
    "\n",
    "b = np.array([('red', 'green', 'yellow', 'blue'),\n",
    "              (True,False, False, True), \n",
    "              ('2017-10-01', '2017-11-11', '2017-12-23', '2018-03-31')])\n",
    "c = np.array([[(10,9,8,7),(6,5,4,3)],[(1,2,3,4),(5,6,7,8)]])\n",
    "\n",
    "\n",
    "#shape returns the number of elements in each dimension\n",
    "print('====shape====')\n",
    "print(a.shape)\n",
    "print(b.shape)\n",
    "print(c.shape)  \n",
    "\n",
    "#ndim property to find out the number of dimensions of the array\n",
    "print('====ndim====')\n",
    "print(a.ndim)\n",
    "print(b.ndim)\n",
    "print(c.ndim)\n",
    "\n",
    "#size property to find out the total number of elements in the array\n",
    "print('====size====')\n",
    "print(a.size)\n",
    "print(b.size)\n",
    "print(c.size)\n",
    "\n",
    "\n",
    "#len function to find out the number of rows in the array\n",
    "print('====len====')\n",
    "print(len(a))\n",
    "print(len(b))\n",
    "print(len(c))\n"
   ]
  },
  {
   "cell_type": "markdown",
   "id": "3476d9e2",
   "metadata": {},
   "source": [
    "# Task 4-2: Use the type function, dtype property\n",
    "\n",
    "Apply the type function and dtype property on each of the arrays in Task 2 to inspect them\n",
    " \n",
    "Your output should appear as shown on the right."
   ]
  },
  {
   "cell_type": "code",
   "execution_count": 47,
   "id": "4c8c481c",
   "metadata": {},
   "outputs": [
    {
     "name": "stdout",
     "output_type": "stream",
     "text": [
      "type(a) is <class 'numpy.ndarray'> int32\n",
      "type(b) is <class 'numpy.ndarray'> int32\n",
      "type(c) is <class 'numpy.ndarray'> int32\n"
     ]
    }
   ],
   "source": [
    "# Task 4-2\n",
    "\n",
    "print(f'type(a) is {type(a)} {a.dtype}')\n",
    "\n",
    "print(f'type(b) is {type(a)} {a.dtype}')\n",
    "\n",
    "print(f'type(c) is {type(a)} {a.dtype}')\n"
   ]
  },
  {
   "cell_type": "code",
   "execution_count": null,
   "id": "1c6c247f",
   "metadata": {},
   "outputs": [],
   "source": []
  },
  {
   "cell_type": "markdown",
   "id": "2623dd1c",
   "metadata": {},
   "source": [
    "# Task 5-1: Flatten an array\n",
    "\n",
    "(a)\tWrite Python code to convert the multi-dimensional array a, into a 1-D array\n",
    "\n",
    "a = np.array([ ['Mary', 'John','Bob'], \n",
    "               ['Zoe', 'Chris','Ann'],\n",
    "               ['Leon', 'Kathy','Sam']])"
   ]
  },
  {
   "cell_type": "code",
   "execution_count": 22,
   "id": "e7c63f90",
   "metadata": {},
   "outputs": [
    {
     "name": "stdout",
     "output_type": "stream",
     "text": [
      "[['Mary' 'John' 'Bob']\n",
      " ['Zoe' 'Chris' 'Ann']\n",
      " ['Leon' 'Kathy' 'Sam']]\n",
      "\n",
      "['Mary' 'John' 'Bob' 'Zoe' 'Chris' 'Ann' 'Leon' 'Kathy' 'Sam']\n"
     ]
    }
   ],
   "source": [
    "# task 5-1\n",
    "a = np.array([ ['Mary', 'John','Bob'], \n",
    "               ['Zoe', 'Chris','Ann'],\n",
    "               ['Leon', 'Kathy','Sam']])\n",
    "\n",
    "\n",
    "b = a.flatten()\n",
    "\n",
    "print(a) \n",
    "print()\n",
    "print(b)"
   ]
  },
  {
   "cell_type": "markdown",
   "id": "f20111d9",
   "metadata": {},
   "source": [
    "# Task 5-2: Reshape arrays\n",
    "\n",
    "(a)\tWrite Python code to convert the following 1-D array a into a 3x5 multi-dimensional array\n",
    "\n",
    "a = np.arange(15,30)\n",
    "\n",
    "(b)\tConvert the following 2x6 array b into a 3x4 array\n",
    "\n",
    "b = np.array([ [1,2,3,4,5,6], [7,8,9,10,11,12]])"
   ]
  },
  {
   "cell_type": "code",
   "execution_count": 28,
   "id": "11a23d78",
   "metadata": {},
   "outputs": [
    {
     "name": "stdout",
     "output_type": "stream",
     "text": [
      "[15 16 17 18 19 20 21 22 23 24 25 26 27 28 29]\n",
      "\n",
      "[[15 16 17 18 19]\n",
      " [20 21 22 23 24]\n",
      " [25 26 27 28 29]]\n",
      "\n",
      "[[ 1  2  3  4  5  6]\n",
      " [ 7  8  9 10 11 12]]\n",
      "\n",
      "[[ 1  2  3  4]\n",
      " [ 5  6  7  8]\n",
      " [ 9 10 11 12]]\n"
     ]
    }
   ],
   "source": [
    "# task 5-2\n",
    "a = np.arange(15,30)\n",
    "c = a.reshape((3,5))\n",
    "\n",
    "print(a)\n",
    "print()\n",
    "print(c)\n",
    "print()\n",
    "\n",
    "b = np.array([ [1,2,3,4,5,6], [7,8,9,10,11,12]])\n",
    "d = b.reshape((3,4))\n",
    "\n",
    "print(b)\n",
    "print()\n",
    "print(d)"
   ]
  },
  {
   "cell_type": "markdown",
   "id": "ba926596",
   "metadata": {},
   "source": [
    "# Task 5-3: Transpose array\n",
    "\n",
    "(a)\tWrite Python code to transpose the following array\n",
    "\n",
    "a = np.array([ [1,2,3,4,5,6], [7,8,9,10,11,12]])"
   ]
  },
  {
   "cell_type": "code",
   "execution_count": 29,
   "id": "ac0deb3c",
   "metadata": {},
   "outputs": [
    {
     "name": "stdout",
     "output_type": "stream",
     "text": [
      "[[ 1  7]\n",
      " [ 2  8]\n",
      " [ 3  9]\n",
      " [ 4 10]\n",
      " [ 5 11]\n",
      " [ 6 12]]\n"
     ]
    }
   ],
   "source": [
    "# Task 5-3\n",
    "\n",
    "a = np.array([ [1,2,3,4,5,6], [7,8,9,10,11,12]])\n",
    "b = a.transpose()\n",
    "print(b)"
   ]
  },
  {
   "cell_type": "code",
   "execution_count": 30,
   "id": "4682a3b1",
   "metadata": {},
   "outputs": [
    {
     "name": "stdout",
     "output_type": "stream",
     "text": [
      "[[ 1  7]\n",
      " [ 2  8]\n",
      " [ 3  9]\n",
      " [ 4 10]\n",
      " [ 5 11]\n",
      " [ 6 12]]\n"
     ]
    }
   ],
   "source": [
    "a = np.array([ [1,2,3,4,5,6], [7,8,9,10,11,12]])\n",
    "print(a.transpose())"
   ]
  },
  {
   "cell_type": "markdown",
   "id": "cc069fbd",
   "metadata": {},
   "source": [
    "# Task 6-1: Concatenate arrays\n",
    "https://docs.scipy.org/doc/numpy/reference/generated/numpy.concatenate.html\n",
    "\n",
    "(a)\tWrite Python code to concatenate the following arrays on the x-axis\n",
    "\n",
    "a = np.array([[ 1,2,3],[ 4,5,6],[7,8,9]])\n",
    "\n",
    "b = np.full((3,3),1.5)\n",
    "\n",
    "c = np.arange(0,15).reshape(5,3)\n",
    "\n",
    "\n",
    "(b)\tWrite Python code to concatenate the following arrays on the y-axis\n",
    "\n",
    "a = np.array([[ 1,2,3,4],[ 4,5,6,7],[7,8,9,10],[11,12,13,14]])\n",
    "\n",
    "b = np.random.randint(100,200,(4,6))\n",
    "\n",
    "c = np.arange(0,40).reshape(4,10)"
   ]
  },
  {
   "cell_type": "code",
   "execution_count": 40,
   "id": "c5c16088",
   "metadata": {},
   "outputs": [
    {
     "name": "stdout",
     "output_type": "stream",
     "text": [
      "[[1 2 3]\n",
      " [4 5 6]\n",
      " [7 8 9]]\n",
      "\n",
      "[[1.5 1.5 1.5]\n",
      " [1.5 1.5 1.5]\n",
      " [1.5 1.5 1.5]]\n",
      "\n",
      "[[ 0  1  2]\n",
      " [ 3  4  5]\n",
      " [ 6  7  8]\n",
      " [ 9 10 11]\n",
      " [12 13 14]]\n",
      "\n",
      "[[ 1.   2.   3. ]\n",
      " [ 4.   5.   6. ]\n",
      " [ 7.   8.   9. ]\n",
      " [ 1.5  1.5  1.5]\n",
      " [ 1.5  1.5  1.5]\n",
      " [ 1.5  1.5  1.5]\n",
      " [ 0.   1.   2. ]\n",
      " [ 3.   4.   5. ]\n",
      " [ 6.   7.   8. ]\n",
      " [ 9.  10.  11. ]\n",
      " [12.  13.  14. ]]\n",
      "\n",
      "[[ 1  2  3  4]\n",
      " [ 4  5  6  7]\n",
      " [ 7  8  9 10]\n",
      " [11 12 13 14]]\n",
      "\n",
      "[[105 194 169 127 150 185]\n",
      " [133 117 108 103 107 180]\n",
      " [197 171 197 185 178 110]\n",
      " [120 108 111 101 195 104]]\n",
      "\n",
      "[[ 0  1  2  3  4  5  6  7  8  9]\n",
      " [10 11 12 13 14 15 16 17 18 19]\n",
      " [20 21 22 23 24 25 26 27 28 29]\n",
      " [30 31 32 33 34 35 36 37 38 39]]\n",
      "\n",
      "[[  1   2   3   4 105 194 169 127 150 185   0   1   2   3   4   5   6   7\n",
      "    8   9]\n",
      " [  4   5   6   7 133 117 108 103 107 180  10  11  12  13  14  15  16  17\n",
      "   18  19]\n",
      " [  7   8   9  10 197 171 197 185 178 110  20  21  22  23  24  25  26  27\n",
      "   28  29]\n",
      " [ 11  12  13  14 120 108 111 101 195 104  30  31  32  33  34  35  36  37\n",
      "   38  39]]\n"
     ]
    }
   ],
   "source": [
    "# **Task 6-1 (a)**\n",
    "a = np.array([[ 1,2,3],[ 4,5,6],[7,8,9]])\n",
    "b = np.full((3,3),1.5)\n",
    "c = np.arange(0,15).reshape(5,3)\n",
    "\n",
    "print(a)\n",
    "print()\n",
    "print(b)\n",
    "print()\n",
    "print(c)\n",
    "print()\n",
    "print(np.concatenate((a,b,c), axis=0))\n",
    "print()\n",
    "\n",
    "#r = np.concatenate((a,b,c), axis=0)\n",
    "#print(r)\n",
    "\n",
    "# **Task 6-1 (b)**\n",
    "a = np.array([[ 1,2,3,4],[ 4,5,6,7],[7,8,9,10],[11,12,13,14]])\n",
    "b = np.random.randint(100,200,(4,6))\n",
    "c = np.arange(0,40).reshape(4,10)\n",
    "print(a)\n",
    "print()\n",
    "print(b)\n",
    "print()\n",
    "print(c)\n",
    "print()\n",
    "print(np.concatenate((a,b,c), axis=1))"
   ]
  },
  {
   "cell_type": "markdown",
   "id": "f6169c8e",
   "metadata": {},
   "source": [
    "# Task 6-2: Split arrays\n",
    "https://docs.scipy.org/doc/numpy/reference/generated/numpy.split.html#numpy.split\n",
    "\n",
    "(a)\tWrite Python code to split the following array into 20 sub-arrays\n",
    "\n",
    "x = np.arange(100)\n",
    "\n",
    "(b)\tWrite Python code to split the following array at these intervals: 10, 25, 45, 75, 95\n",
    "\n",
    "x = np.arange(100)"
   ]
  },
  {
   "cell_type": "code",
   "execution_count": 45,
   "id": "b053c921",
   "metadata": {},
   "outputs": [
    {
     "name": "stdout",
     "output_type": "stream",
     "text": [
      "[ 0  1  2  3  4  5  6  7  8  9 10 11 12 13 14 15 16 17 18 19 20 21 22 23\n",
      " 24 25 26 27 28 29 30 31 32 33 34 35 36 37 38 39 40 41 42 43 44 45 46 47\n",
      " 48 49 50 51 52 53 54 55 56 57 58 59 60 61 62 63 64 65 66 67 68 69 70 71\n",
      " 72 73 74 75 76 77 78 79 80 81 82 83 84 85 86 87 88 89 90 91 92 93 94 95\n",
      " 96 97 98 99]\n",
      "\n",
      "[array([0, 1, 2, 3, 4]), array([5, 6, 7, 8, 9]), array([10, 11, 12, 13, 14]), array([15, 16, 17, 18, 19]), array([20, 21, 22, 23, 24]), array([25, 26, 27, 28, 29]), array([30, 31, 32, 33, 34]), array([35, 36, 37, 38, 39]), array([40, 41, 42, 43, 44]), array([45, 46, 47, 48, 49]), array([50, 51, 52, 53, 54]), array([55, 56, 57, 58, 59]), array([60, 61, 62, 63, 64]), array([65, 66, 67, 68, 69]), array([70, 71, 72, 73, 74]), array([75, 76, 77, 78, 79]), array([80, 81, 82, 83, 84]), array([85, 86, 87, 88, 89]), array([90, 91, 92, 93, 94]), array([95, 96, 97, 98, 99])]\n",
      "\n",
      "[array([0, 1, 2, 3, 4, 5, 6, 7, 8, 9]), array([10, 11, 12, 13, 14, 15, 16, 17, 18, 19, 20, 21, 22, 23, 24]), array([25, 26, 27, 28, 29, 30, 31, 32, 33, 34, 35, 36, 37, 38, 39, 40, 41,\n",
      "       42, 43, 44]), array([45, 46, 47, 48, 49, 50, 51, 52, 53, 54, 55, 56, 57, 58, 59, 60, 61,\n",
      "       62, 63, 64, 65, 66, 67, 68, 69, 70, 71, 72, 73, 74]), array([75, 76, 77, 78, 79, 80, 81, 82, 83, 84, 85, 86, 87, 88, 89, 90, 91,\n",
      "       92, 93, 94]), array([95, 96, 97, 98, 99])]\n",
      "[array([0, 1, 2, 3, 4, 5, 6, 7, 8, 9]), array([10, 11, 12, 13, 14, 15, 16, 17, 18, 19, 20, 21, 22, 23, 24]), array([25, 26, 27, 28, 29, 30, 31, 32, 33, 34, 35, 36, 37, 38, 39, 40, 41,\n",
      "       42, 43, 44]), array([45, 46, 47, 48, 49, 50, 51, 52, 53, 54, 55, 56, 57, 58, 59, 60, 61,\n",
      "       62, 63, 64, 65, 66, 67, 68, 69, 70, 71, 72, 73, 74]), array([75, 76, 77, 78, 79, 80, 81, 82, 83, 84, 85, 86, 87, 88, 89, 90, 91,\n",
      "       92, 93, 94]), array([95, 96, 97, 98, 99])]\n"
     ]
    }
   ],
   "source": [
    "# Task 6-2 (a)\n",
    "x = np.arange(100)\n",
    "print(x)\n",
    "print()\n",
    "print(np.split(x,20))\n",
    "print()\n",
    "\n",
    "# Task 6-2 (b)\n",
    "x = np.arange(100)\n",
    "print(np.split(x,(10,25,45,75,95)))\n",
    "print(np.split(x,[10,25,45,75,95]))"
   ]
  },
  {
   "cell_type": "markdown",
   "id": "23a1291e",
   "metadata": {},
   "source": [
    "# Task 7-1: Make a copy of a Numpy array\n",
    "\n",
    "(a)\tWhat is the difference between y and z?\n",
    "\n",
    "x = np.array([1, 2, 3])\n",
    "\n",
    "y = x\n",
    "\n",
    "z = np.copy(x)\n",
    "\n",
    "(b)\tWhat is the value of x, y and z after executing Line 4?\n",
    "\n",
    "Line\t\n",
    "1\tx = np.array([1, 2, 3])\n",
    "\n",
    "2\ty = x\n",
    "\n",
    "3\tz = np.copy(x)\n",
    "\n",
    "4\tx[0] = 10"
   ]
  },
  {
   "cell_type": "code",
   "execution_count": 3,
   "id": "46375231",
   "metadata": {},
   "outputs": [
    {
     "name": "stdout",
     "output_type": "stream",
     "text": [
      "[1 2 3]\n",
      "[1 2 3]\n"
     ]
    }
   ],
   "source": [
    "# Task 7-1 (a)\n",
    "\n",
    "import numpy as np\n",
    "\n",
    "x = np.array([1, 2, 3])\n",
    "\n",
    "y = x\n",
    "\n",
    "z = np.copy(x)\n",
    "\n",
    "print(y)\n",
    "print(z)"
   ]
  },
  {
   "cell_type": "code",
   "execution_count": 4,
   "id": "f6b5167b",
   "metadata": {},
   "outputs": [
    {
     "name": "stdout",
     "output_type": "stream",
     "text": [
      "[10  2  3]\n",
      "[10  2  3]\n",
      "[1 2 3]\n"
     ]
    }
   ],
   "source": [
    "# Task 7-1 (b)\n",
    "\n",
    "x = np.array([1, 2, 3])\n",
    "\n",
    "y = x\n",
    "\n",
    "z = np.copy(x)\n",
    "\n",
    "x[0] = 10\n",
    "\n",
    "print(x)\n",
    "print(y)\n",
    "print(z)"
   ]
  },
  {
   "cell_type": "markdown",
   "id": "a435f29b",
   "metadata": {},
   "source": [
    "# task 8-1\tSorting arrays\n",
    "Task 1: Basic sorting\n",
    "(a)\tWrite Python code to sort the following 1-d array using the sort method\n",
    "\n",
    "arr_1 = np.random.randint(100,200,10)\n",
    "\n",
    "Your output should be similar to that below.\n",
    "\n",
    "(b)\tWrite Python code to sort the following 2-d array by columns\n",
    "\n",
    "arr_2 = np.random.randint(1,20,(3,5))\n",
    "\n",
    "Your output should be similar to that below.\n",
    "\n",
    "(c)\tWrite Python code to sort the following 2-d array by rows without affecting the original .\n",
    "\n",
    "arr_3 = np.random.randint(100,200,(2,5))\n"
   ]
  },
  {
   "cell_type": "code",
   "execution_count": 5,
   "id": "1cead2f0",
   "metadata": {},
   "outputs": [
    {
     "name": "stdout",
     "output_type": "stream",
     "text": [
      "before sorting\n",
      "[129 195 105 157 162 186 101 177 136 187]\n",
      "after sorting\n",
      "[101 105 129 136 157 162 177 186 187 195]\n"
     ]
    }
   ],
   "source": [
    "# task 8-1 (a)\n",
    "\n",
    "arr_1 = np.random.randint(100,200,10)\n",
    "\n",
    "print('before sorting')\n",
    "print(arr_1)\n",
    "\n",
    "arr_1.sort()\n",
    "print('after sorting')\n",
    "print(arr_1)"
   ]
  },
  {
   "cell_type": "code",
   "execution_count": 10,
   "id": "180f6c6e",
   "metadata": {},
   "outputs": [
    {
     "name": "stdout",
     "output_type": "stream",
     "text": [
      "before sorting\n",
      "[[ 1 12  9 17  3]\n",
      " [ 2  4  6  1  2]\n",
      " [ 2  8 16 19  2]]\n",
      "after sorting axis=0\n",
      "[[ 1  4  6  1  2]\n",
      " [ 2  8  9 17  2]\n",
      " [ 2 12 16 19  3]]\n"
     ]
    }
   ],
   "source": [
    "# task 8-1 (b)\n",
    "\n",
    "arr_2 = np.random.randint(1,20,(3,5))\n",
    "\n",
    "print('before sorting')\n",
    "print(arr_2)\n",
    "\n",
    "arr_2.sort(axis=0) # try rr_2.sort(axis=1) \n",
    "print('after sorting axis=0')\n",
    "print(arr_2)"
   ]
  },
  {
   "cell_type": "code",
   "execution_count": 11,
   "id": "2f2382c7",
   "metadata": {},
   "outputs": [
    {
     "name": "stdout",
     "output_type": "stream",
     "text": [
      "after sorting axis=1\n",
      "[[ 1  1  2  4  6]\n",
      " [ 2  2  8  9 17]\n",
      " [ 2  3 12 16 19]]\n"
     ]
    }
   ],
   "source": [
    "arr_2.sort(axis=1) \n",
    "print('after sorting axis=1')\n",
    "print(arr_2)"
   ]
  },
  {
   "cell_type": "code",
   "execution_count": 14,
   "id": "0f530c95",
   "metadata": {},
   "outputs": [
    {
     "name": "stdout",
     "output_type": "stream",
     "text": [
      "before sorting - original array\n",
      "[[102 132 185 106 158]\n",
      " [191 156 117 199 120]]\n",
      "after sorting - original array\n",
      "[[102 106 132 158 185]\n",
      " [117 120 156 191 199]]\n",
      "after sorting - copy array\n",
      "[[102 106 132 158 185]\n",
      " [117 120 156 191 199]]\n"
     ]
    }
   ],
   "source": [
    "# task 8-1 (c)\n",
    "\n",
    "arr_3 = np.random.randint(100,200,(2,5))\n",
    "arr_3_copy = np.copy(arr_3)\n",
    "\n",
    "print('before sorting - original array')\n",
    "print(arr_3)\n",
    "\n",
    "arr_3.sort()  # default axis=1\n",
    "print('after sorting - original array')\n",
    "print(arr_3)\n",
    "\n",
    "arr_3_copy.sort()\n",
    "print('after sorting - copy array')\n",
    "print(arr_3_copy)"
   ]
  },
  {
   "cell_type": "code",
   "execution_count": 29,
   "id": "4172c673",
   "metadata": {},
   "outputs": [
    {
     "name": "stdout",
     "output_type": "stream",
     "text": [
      "after sorting axis=0\n",
      "[[114 119 120 120 153]\n",
      " [135 145 158 180 195]]\n"
     ]
    }
   ],
   "source": [
    "arr_3.sort(axis=0)\n",
    "print('after sorting axis=0')\n",
    "print(arr_3)"
   ]
  },
  {
   "cell_type": "code",
   "execution_count": 31,
   "id": "24a84497",
   "metadata": {},
   "outputs": [
    {
     "name": "stdout",
     "output_type": "stream",
     "text": [
      "after sorting axis=1\n",
      "[[114 119 120 120 153]\n",
      " [135 145 158 180 195]]\n"
     ]
    }
   ],
   "source": [
    "arr_3.sort(axis=1)\n",
    "print('after sorting axis=1')\n",
    "print(arr_3)"
   ]
  },
  {
   "cell_type": "markdown",
   "id": "2ba75c8a",
   "metadata": {},
   "source": [
    "# Task 9.\tSubsetting and Indexing"
   ]
  },
  {
   "cell_type": "code",
   "execution_count": 18,
   "id": "66bbc976",
   "metadata": {},
   "outputs": [
    {
     "name": "stdout",
     "output_type": "stream",
     "text": [
      "[ 1  2  3  4  5  6  7  8  9 10 11 12 13 14 15 16 17 18 19 20 21 22 23 24\n",
      " 25 26 27 28 29 30 31 32 33 34 35 36 37 38 39 40 41 42 43 44 45 46 47 48\n",
      " 49 50 51 52 53 54 55 56 57 58 59 60 61 62 63 64 65 66 67 68 69 70 71 72\n",
      " 73 74 75 76 77 78 79 80 81 82 83 84 85 86 87 88 89 90 91 92 93 94 95 96\n",
      " 97 98 99]\n",
      "[[  1   2   3   4]\n",
      " [100 200 300 400]\n",
      " [  5   6   7   8]\n",
      " [  9  10  11  12]]\n"
     ]
    }
   ],
   "source": [
    "# task 9-1\n",
    "a = np.arange(1,100,1)\n",
    "b = np.array([[1,2,3,4], [100,200,300,400],  [5,6,7,8],  [9,10,11,12] ])\n",
    "\n",
    "print(a)\n",
    "print(b)"
   ]
  },
  {
   "cell_type": "code",
   "execution_count": 20,
   "id": "6e2d9a7a",
   "metadata": {},
   "outputs": [
    {
     "name": "stdout",
     "output_type": "stream",
     "text": [
      "4\n",
      "[ 9 10 11 12]\n"
     ]
    }
   ],
   "source": [
    "# task 9-1 (a)\n",
    "print(a[3])\n",
    "print(b[3])"
   ]
  },
  {
   "cell_type": "code",
   "execution_count": 21,
   "id": "d1ee70c7",
   "metadata": {},
   "outputs": [
    {
     "name": "stdout",
     "output_type": "stream",
     "text": [
      "[[100 200 300 400]\n",
      " [  5   6   7   8]]\n"
     ]
    }
   ],
   "source": [
    "# task 9-1 (b)\n",
    "print(b[1:3])"
   ]
  },
  {
   "cell_type": "code",
   "execution_count": 23,
   "id": "714f4400",
   "metadata": {},
   "outputs": [
    {
     "name": "stdout",
     "output_type": "stream",
     "text": [
      "[  4 400   8  12]\n"
     ]
    }
   ],
   "source": [
    "# task 9-1 (c)\n",
    "print(b[:,-1])"
   ]
  },
  {
   "cell_type": "code",
   "execution_count": 31,
   "id": "c076a8c6",
   "metadata": {},
   "outputs": [
    {
     "name": "stdout",
     "output_type": "stream",
     "text": [
      "100 400\n"
     ]
    }
   ],
   "source": [
    "# task 9-1 (d)\n",
    "print(b[1,0],b[1,-1])"
   ]
  },
  {
   "cell_type": "code",
   "execution_count": 42,
   "id": "fc84f753",
   "metadata": {},
   "outputs": [
    {
     "name": "stdout",
     "output_type": "stream",
     "text": [
      "[100 400]\n"
     ]
    }
   ],
   "source": [
    "# task 9-1 (d)\n",
    "print(b[1,[0,-1]])"
   ]
  },
  {
   "cell_type": "code",
   "execution_count": 32,
   "id": "466d5969",
   "metadata": {},
   "outputs": [
    {
     "name": "stdout",
     "output_type": "stream",
     "text": [
      "[[ 6  7  8]\n",
      " [10 11 12]]\n"
     ]
    }
   ],
   "source": [
    "# task 9-1 (e)\n",
    "print(b[2:,1:])"
   ]
  },
  {
   "cell_type": "code",
   "execution_count": 35,
   "id": "7525b4fa",
   "metadata": {},
   "outputs": [
    {
     "name": "stdout",
     "output_type": "stream",
     "text": [
      "[10 12 14 16 18]\n"
     ]
    }
   ],
   "source": [
    "# task 9-1 (f)\n",
    "a = np.arange(10,20,2)\n",
    "print(a)"
   ]
  },
  {
   "cell_type": "code",
   "execution_count": 41,
   "id": "837d9c06",
   "metadata": {},
   "outputs": [
    {
     "name": "stdout",
     "output_type": "stream",
     "text": [
      "[18 16 14 12 10]\n"
     ]
    }
   ],
   "source": [
    "# task 9-1 (g)\n",
    "print(a[::-1])"
   ]
  },
  {
   "cell_type": "markdown",
   "id": "f9a2fdad",
   "metadata": {},
   "source": [
    "# Task 9-2: Boolean indexing"
   ]
  },
  {
   "cell_type": "code",
   "execution_count": 49,
   "id": "10c8b203",
   "metadata": {},
   "outputs": [
    {
     "name": "stdout",
     "output_type": "stream",
     "text": [
      "[[ 0  1  2  3  4  5  6  7  8  9]\n",
      " [10 11 12 13 14 15 16 17 18 19]\n",
      " [20 21 22 23 24 25 26 27 28 29]\n",
      " [30 31 32 33 34 35 36 37 38 39]]\n",
      "[[197 148 101]\n",
      " [107 147 115]\n",
      " [160 192 134]]\n",
      "[ 0  2  4  6  8 10 12 14 16 18 20 22 24 26 28 30 32 34 36 38]\n",
      "[197 160 192]\n"
     ]
    }
   ],
   "source": [
    "a = np.array((np.arange(0,10),\n",
    "             np.arange(10,20),\n",
    "             np.arange(20,30),\n",
    "             np.arange(30,40)))\n",
    "\n",
    "b = np.random.randint(100,200,(3,3))\n",
    "\n",
    "print(a)\n",
    "print(b)\n",
    "\n",
    "a1 = a % 2 == 0\n",
    "arr_a = a[a1]\n",
    "\n",
    "print(arr_a)\n",
    "\n",
    "b1 = b >150\n",
    "arr_b = b[b1]\n",
    "print(arr_b)\n"
   ]
  },
  {
   "cell_type": "code",
   "execution_count": 50,
   "id": "e44095f3",
   "metadata": {},
   "outputs": [
    {
     "name": "stdout",
     "output_type": "stream",
     "text": [
      "[ 0  2  4  6  8 10 12 14 16 18 20 22 24 26 28 30 32 34 36 38]\n",
      "\n",
      "[197 160 192]\n"
     ]
    }
   ],
   "source": [
    "# task 9-2\n",
    "\n",
    "print(a[a%2==0])\n",
    "print()\n",
    "print(b[b>150])"
   ]
  },
  {
   "cell_type": "code",
   "execution_count": 130,
   "id": "7521c65f",
   "metadata": {},
   "outputs": [
    {
     "name": "stdout",
     "output_type": "stream",
     "text": [
      "[[0. 1. 2.]\n",
      " [3. 4. 5.]\n",
      " [6. 7. 8.]]\n",
      "[6. 7. 8.]\n",
      "\n",
      "(array([2, 2, 2], dtype=int64), array([0, 1, 2], dtype=int64))\n"
     ]
    }
   ],
   "source": [
    "# task 9-3\n",
    "b = np.arange(9.).reshape(3, 3)\n",
    "b5 = np.where(b > 5)\n",
    "\n",
    "print(b)\n",
    "print(b[b>5])\n",
    "print()\n",
    "print(b5)"
   ]
  },
  {
   "cell_type": "code",
   "execution_count": 131,
   "id": "a567a79e",
   "metadata": {},
   "outputs": [
    {
     "name": "stdout",
     "output_type": "stream",
     "text": [
      "[0 1 2 3 4 5 6 7 8 9]\n",
      "(array([6, 7, 8, 9], dtype=int64),)\n"
     ]
    },
    {
     "data": {
      "text/plain": [
       "array([ 0,  1,  2,  3,  4, 50, 60, 70, 80, 90])"
      ]
     },
     "execution_count": 131,
     "metadata": {},
     "output_type": "execute_result"
    }
   ],
   "source": [
    "a = np.arange(10)\n",
    "b = np.where( a>5 )\n",
    "print(a)\n",
    "print(b)\n",
    "np.where(a < 5, a, 10*a)"
   ]
  },
  {
   "cell_type": "markdown",
   "id": "cc8b9167",
   "metadata": {},
   "source": [
    "# 10.\tArray Math"
   ]
  },
  {
   "cell_type": "code",
   "execution_count": 103,
   "id": "6452260a",
   "metadata": {},
   "outputs": [
    {
     "name": "stdout",
     "output_type": "stream",
     "text": [
      "[[103 187 106 198 107]\n",
      " [179 160 162 150 206]\n",
      " [151 172 192 203 152]\n",
      " [119 174 134 146 218]\n",
      " [129 177 169 188 136]\n",
      " [155 208 217 196 145]\n",
      " [162 145 156 208 229]\n",
      " [217 196 143 195 208]\n",
      " [236 218 234 162 154]\n",
      " [192 228 177 243 215]\n",
      " [166 172 239 165 184]\n",
      " [196 220 202 224 212]\n",
      " [251 260 244 239 259]\n",
      " [260 210 169 249 240]\n",
      " [250 208 270 237 230]\n",
      " [192 227 190 188 201]\n",
      " [272 236 239 186 205]\n",
      " [253 214 266 242 285]\n",
      " [247 213 261 287 255]\n",
      " [260 266 260 203 250]]\n",
      "[[ 935 1851 1344]\n",
      " [1523  989 1855]]\n",
      "[[10 20 30]\n",
      " [40 50 60]]\n"
     ]
    }
   ],
   "source": [
    "# task 10-1\n",
    "a = np.arange(100,200,1).reshape(20,5) \n",
    "b = np.arange(1,2000,20).reshape(10,10) \n",
    "c = np.array([ [1,2,3], [4,5,6]])\n",
    "\n",
    "#print(a)\n",
    "#print(b)\n",
    "#print(c)\n",
    "\n",
    "# print(a+b) # task 10-1 (a) - a+b doesn't work because they have different hape  \n",
    "\n",
    "# (b)\n",
    "a2 = np.random.randint(0,100,(20,5))\n",
    "print(a+a2)\n",
    "\n",
    "# (c) \n",
    "b1 = np.random.randint(b.min(),b.max(),(2,3))  # get the random element.\n",
    "#print(b1)\n",
    "print(b1-c)\n",
    "\n",
    "# (d)\n",
    "c2 = np.array(c*10)   # or c2 =c*10\n",
    "print(c2)"
   ]
  },
  {
   "cell_type": "markdown",
   "id": "aa6b0240",
   "metadata": {},
   "source": [
    "# 11.\tStatistical methods\n"
   ]
  },
  {
   "cell_type": "code",
   "execution_count": 110,
   "id": "ffe242f4",
   "metadata": {},
   "outputs": [
    {
     "name": "stdout",
     "output_type": "stream",
     "text": [
      "[[ 0  1  2  3  4  5  6  7  8  9]\n",
      " [10 11 12 13 14 15 16 17 18 19]\n",
      " [20 21 22 23 24 25 26 27 28 29]\n",
      " [30 31 32 33 34 35 36 37 38 39]]\n",
      "*** Sume of all numbers in a ***\n",
      "780\n",
      "*** Mean of all numbers in a ***\n",
      "19.5\n",
      "*** Sum of all numbers in each row of a ***\n",
      "[ 45 145 245 345]\n"
     ]
    }
   ],
   "source": [
    "# task 11-1\n",
    "a = np.array((np.arange(0,10),\n",
    "             np.arange(10,20),\n",
    "             np.arange(20,30),\n",
    "             np.arange(30,40)))\n",
    "print(a)\n",
    "\n",
    "# (a)\n",
    "print(f'*** Sume of all numbers in a ***')\n",
    "print(np.sum(a))\n",
    "\n",
    "# (b)\n",
    "print(f'*** Mean of all numbers in a ***')\n",
    "print(np.mean(a))\n",
    "\n",
    "# (c)\n",
    "print(f'*** Sum of all numbers in each row of a ***')\n",
    "print(np.sum(a,axis=1))"
   ]
  },
  {
   "cell_type": "code",
   "execution_count": 114,
   "id": "0ebfa624",
   "metadata": {},
   "outputs": [
    {
     "name": "stdout",
     "output_type": "stream",
     "text": [
      "28.86715261330774\n",
      "28.867499025719308\n",
      "833.3125\n",
      "833.3324999999053\n"
     ]
    }
   ],
   "source": [
    "# task 11-2\n",
    "a = np.arange(100,200,0.5)\n",
    "b = np.arange(100,200,0.1)\n",
    "\n",
    "# (a)\n",
    "print(np.std(a))\n",
    "print(np.std(b))\n",
    "\n",
    "# (b)\n",
    "print(np.var(a))\n",
    "print(np.var(b))"
   ]
  },
  {
   "cell_type": "code",
   "execution_count": 132,
   "id": "d3f3d78f",
   "metadata": {},
   "outputs": [
    {
     "name": "stdout",
     "output_type": "stream",
     "text": [
      "[[129 834 627 865]\n",
      " [ 87 543 875 399]\n",
      " [410 993 585 665]]\n",
      "[865 875 993]\n",
      "993\n",
      "[[129 834 627 865]\n",
      " [ 87 543 875 399]\n",
      " [410 993 585 665]]\n",
      "[ 87 543 585 399]\n",
      "87\n"
     ]
    }
   ],
   "source": [
    "# task 11-3\n",
    "a = np.random.randint(1,1000,(3,4))\n",
    "\n",
    "print(a)\n",
    "print(a.max(axis=1))\n",
    "print(a.max())\n",
    "\n",
    "print(a)\n",
    "print(a.min(axis=0))\n",
    "print(a.min())"
   ]
  }
 ],
 "metadata": {
  "kernelspec": {
   "display_name": "Python 3 (ipykernel)",
   "language": "python",
   "name": "python3"
  },
  "language_info": {
   "codemirror_mode": {
    "name": "ipython",
    "version": 3
   },
   "file_extension": ".py",
   "mimetype": "text/x-python",
   "name": "python",
   "nbconvert_exporter": "python",
   "pygments_lexer": "ipython3",
   "version": "3.8.11"
  }
 },
 "nbformat": 4,
 "nbformat_minor": 5
}
