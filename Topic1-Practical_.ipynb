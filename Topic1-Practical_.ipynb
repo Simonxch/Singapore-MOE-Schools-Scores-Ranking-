{
 "cells": [
  {
   "cell_type": "markdown",
   "id": "1e388a88",
   "metadata": {},
   "source": [
    "# Task 2-1: Basic Inputs and Outputs in Python\n",
    "\n",
    "Write a Python program that prompts the user for his name, and outputs a greeting to him with his name as shown below. "
   ]
  },
  {
   "cell_type": "code",
   "execution_count": 1,
   "id": "e27b2db6",
   "metadata": {},
   "outputs": [
    {
     "name": "stdout",
     "output_type": "stream",
     "text": [
      "What is your name?Simon\n",
      "Hello Simon\n"
     ]
    }
   ],
   "source": [
    "# task 2-1\n",
    "name = input(\"What is your name?\")\n",
    "print('Hello ' + name)"
   ]
  },
  {
   "cell_type": "markdown",
   "id": "f6c6668f",
   "metadata": {},
   "source": [
    "# Task 2-2: Formatting outputs\n",
    "\n",
    "Write a Python program that prompts the user to enter his height and weight, then calculates his BMI to a precision of 2 decimal place as shown below.\n",
    "\n",
    "Hint -- > Remember to convert your inputs to datatype float before performing calculations!"
   ]
  },
  {
   "cell_type": "code",
   "execution_count": 2,
   "id": "27d2b045",
   "metadata": {},
   "outputs": [
    {
     "name": "stdout",
     "output_type": "stream",
     "text": [
      "Enter your weight: 150\n",
      "Enter your height: 1.55\n",
      "Your BMI is  62.43\n"
     ]
    }
   ],
   "source": [
    "# task 2-2\n",
    "weight = float(input(\"Enter your weight: \"))\n",
    "height = float(input(\"Enter your height: \"))\n",
    "bmi = weight/(height*height)\n",
    "# print(f'Your BMI is: {bmi:.2f}')\n",
    "print('Your BMI is {: .2f}'.format(bmi)) # alternative way of printing"
   ]
  },
  {
   "cell_type": "markdown",
   "id": "86485b5c",
   "metadata": {},
   "source": [
    "# Task 2-3: Average of electricity bills (SUBMISSION REQUIRED)\n",
    "\n",
    "Write a Python program that prompts the user to enter his electricity bill for the last 6 months and prints the average of his electricity bills as shown below.\n",
    "\n",
    "Hint -- > Remember to convert your inputs to datatype float before performing calculations!"
   ]
  },
  {
   "cell_type": "code",
   "execution_count": 8,
   "id": "12fea1a3",
   "metadata": {},
   "outputs": [
    {
     "name": "stdout",
     "output_type": "stream",
     "text": [
      "*******************************************************\n",
      "Caculate the average electricity bill for last 6 months\n",
      "*******************************************************\n",
      "Enter bill #1: 156.79\n",
      "Enter bill #2: 138.67\n",
      "Enter bill #3: 120.34\n",
      "Enter bill #4: 179.33\n",
      "Enter bill #5: 162.10\n",
      "Enter bill #6: 142.89\n",
      " \n",
      "Your electricity bills fo rthe past 6 months are:\n",
      "156.79, 138.67, 120.34, 179.33, 162.1, 142.89\n",
      " \n",
      "Your avergage electricity bill is  150.02\n"
     ]
    }
   ],
   "source": [
    "# task 2-3\n",
    "dash = str(\"*******************************************************\")\n",
    "print(dash)\n",
    "print(\"Caculate the average electricity bill for last 6 months\")\n",
    "print(dash)\n",
    "\n",
    "bill_1 = float(input('Enter bill #1: '))\n",
    "bill_2 = float(input('Enter bill #2: '))\n",
    "bill_3 = float(input('Enter bill #3: '))\n",
    "bill_4 = float(input('Enter bill #4: '))\n",
    "bill_5 = float(input('Enter bill #5: '))\n",
    "bill_6 = float(input('Enter bill #6: '))\n",
    "avg = (bill_1 + bill_2 + bill_3 + bill_4 + bill_5 + bill_6)/6\n",
    "\n",
    "print(f' ')\n",
    "\n",
    "print(f'Your electricity bills fo rthe past 6 months are:')\n",
    "print(f'{bill_1}, {bill_2}, {bill_3}, {bill_4}, {bill_5}, {bill_6}')\n",
    "print(f' ')\n",
    "print(f'Your avergage electricity bill is {avg: .2f}')"
   ]
  },
  {
   "cell_type": "code",
   "execution_count": 9,
   "id": "c2b8685f",
   "metadata": {},
   "outputs": [
    {
     "name": "stdout",
     "output_type": "stream",
     "text": [
      "***************************************************\n",
      "Calculate the average of your last 6-months electricity bill\n",
      "***************************************************\n",
      "Enter bill #1: 156.79\n",
      "Enter bill #2: 138.67\n",
      "Enter bill #3: 120.34\n",
      "Enter bill #4: 179.33\n",
      "Enter bill #5: 162.10\n",
      "Enter bill #6: 142.89\n",
      "Your average bill is $150.02\n"
     ]
    }
   ],
   "source": [
    "print('***************************************************')\n",
    "print('Calculate the average of your last 6-months electricity bill')\n",
    "print('***************************************************')\n",
    "bill_1 = float(input('Enter bill #1: '))\n",
    "bill_2 = float(input('Enter bill #2: '))\n",
    "bill_3 = float(input('Enter bill #3: '))\n",
    "bill_4 = float(input('Enter bill #4: '))\n",
    "bill_5 = float(input('Enter bill #5: '))\n",
    "bill_6 = float(input('Enter bill #6: '))\n",
    "average_bill = (bill_1 + bill_2 + bill_3 + bill_4 + bill_5 + bill_6) / 6\n",
    "\n",
    "\n",
    "\n",
    "# print(f'Your average bill is ${average_bill:.2f}')\n",
    "print('Your average bill is ${:.2f}'.format(average_bill))"
   ]
  },
  {
   "cell_type": "markdown",
   "id": "366d601f",
   "metadata": {},
   "source": [
    "# Task 3-1: Timer \n",
    "\n",
    "Write a Python program that acts like a count-down timer.\n",
    "\n",
    "Your program should:\n",
    "\n",
    "1.\tPrompt the user to enter the number of seconds he wishes to count down and store it in a variable called time_to_wait\n",
    "2.\tUse the sleep function to wait for the specified number of seconds\n",
    "3.\tDisplay a message “Time is up!” when the specified number of seconds has elapsed"
   ]
  },
  {
   "cell_type": "code",
   "execution_count": 24,
   "id": "30236a9d",
   "metadata": {},
   "outputs": [
    {
     "name": "stdout",
     "output_type": "stream",
     "text": [
      "Enter the number of seconds to count down: 10\n",
      "Let's count down 10 seconds now....\n",
      "Time is up\n"
     ]
    }
   ],
   "source": [
    "# task 3-1\n",
    "from time import sleep\n",
    "\n",
    "count_time = int(input('Enter the number of seconds to count down: '))\n",
    "\n",
    "print(f\"Let's count down {count_time} seconds now....\") \n",
    "sleep(count_time)\n",
    "print(f'Time is up')"
   ]
  },
  {
   "cell_type": "markdown",
   "id": "489ed81e",
   "metadata": {},
   "source": [
    "# Task 3-2: Reaction game\n",
    "\n",
    "Write a Python ‘game’ that tests how fast a user can respond.\n",
    "\n",
    "Your program should:\n",
    "\n",
    "1.\tStore the current time in a variable time_now\n",
    "2.\tPrompt the user with a message “Timer starts now! Press any key as quickly as possible:” and wait for the user to key in his input in a variable called user_input\n",
    "3.\tRecord and store the time at which the user’s input was captured in a variable time_entered\n",
    "4.\tCalculate the time that has elapsed between time_now and time_entered, which is the time the user took to respond. Store this in a variable time_response\n",
    "5.\tDisplay time_response as shown below"
   ]
  },
  {
   "cell_type": "code",
   "execution_count": 25,
   "id": "d046eaa6",
   "metadata": {},
   "outputs": [
    {
     "name": "stdout",
     "output_type": "stream",
     "text": [
      "Timer starts now! Press any key as quickly as possible:1\n",
      "You took 2.9599709510803223 seconds to type x\n"
     ]
    }
   ],
   "source": [
    "# task 3-2\n",
    "from time import time\n",
    "\n",
    "time_now = time()    # Store the current time\n",
    "\n",
    "user_input = input('Timer starts now! Press any key as quickly as possible:')\n",
    "time_entered = time()\n",
    "time_response = time_entered - time_now    # Calculate how much time has passed\n",
    "\n",
    "print(f\"You took {time_response} seconds to type x\") "
   ]
  },
  {
   "cell_type": "markdown",
   "id": "3a3779ca",
   "metadata": {},
   "source": [
    "# task 4-1\n",
    "1.\tPrompt the user to enter four numbers and store them in the variables n1,n2,n3 and n4\n",
    "2.\tAdd up the four numbers and store the calculated value in the variable sum\n",
    "3.\tSubtract n4 from n1 and store the calculated value in the variable difference\n",
    "4.\tMultiply n2 by n3 and store the calculated value in the variable product\n",
    "5.\tDivide the sum of n1 and n2 by the sum of n3 and n4, and store the calculated value in the variable quotient\n",
    "6.\tFind the remainder of the product of n1 and n2, divided by the product of n3 and n4 and store in the value remainder\n",
    "7.\tCalculate n1 to the power of n2 and store in the variable powerI\n",
    "8.\tPrint the outputs as shown below"
   ]
  },
  {
   "cell_type": "code",
   "execution_count": 11,
   "id": "6661109a",
   "metadata": {},
   "outputs": [
    {
     "name": "stdout",
     "output_type": "stream",
     "text": [
      "Enter number n1: 1\n",
      "Enter number n2: 2\n",
      "Enter number n3: 3\n",
      "Enter number n4: 4\n",
      "the 4 number are 1, 2, 3,4\n",
      "sum is 10\n",
      "difference is -3\n",
      "product is 6\n",
      "quotient is 0.42857142857142855\n",
      "reminder is 2\n",
      "power is 1\n"
     ]
    }
   ],
   "source": [
    "# task 4-1\n",
    "import math\n",
    "\n",
    "n1 = int(input('Enter number n1: '))\n",
    "n2 = int(input('Enter number n2: '))\n",
    "n3 = int(input('Enter number n3: '))\n",
    "n4 = int(input('Enter number n4: '))\n",
    "\n",
    "print(f\"the 4 number are {n1}, {n2}, {n3},{n4}\")\n",
    "\n",
    "sum = n1 + n2 + n3 + n4\n",
    "print(f\"sum is {sum}\")\n",
    "\n",
    "difference = n1 - n4\n",
    "print(f\"difference is {difference}\")      \n",
    "      \n",
    "product = n2*n3\n",
    "print(f\"product is {product}\")        \n",
    "      \n",
    "quotient = (n1 + n2)/(n3 + n4)\n",
    "print(f\"quotient is {quotient}\")         \n",
    "      \n",
    "reminder = (n1*n2) %(n3*n4)\n",
    "print(f\"reminder is {reminder}\")         \n",
    "    \n",
    "power = n1**n2\n",
    "print(f\"power is {power}\")            \n"
   ]
  },
  {
   "cell_type": "markdown",
   "id": "9c18f1ab",
   "metadata": {},
   "source": [
    "# task 4-2\n",
    "Your program should:\n",
    "\n",
    "1.\tPrompt the user to enter four numbers and store them in the variables n1,n2,n3 and n4\n",
    "2.\tPerform the following operations on each variable as specified below.\n",
    "3.\tCalculate the square root of n1 and store the value of the result to a variable n1_squareroot. Print out the ceiling value of n1_squareroot.\n",
    "4.\tMultiply n2 by the mathematical value of pi and store the result to a variable n2_times_pi. . trunc of n2_times_pi. \n",
    "5.\tCalculate the value of n3 to the power of n1 and store the result to n3_powerof_n1. Print out the floor value of n3_powerof_n1.\n",
    "6.\tCompute the factorial of n4 and store the result to a variable n4_factorial.  Divide n4_factorial by n3  and store the result to n4n3.  Compute the fractional and integer parts of n4n3 and print out their values.\n",
    "\n",
    "Hint -- > Remember to convert your inputs to datatype float before performing calculations!\n"
   ]
  },
  {
   "cell_type": "code",
   "execution_count": 2,
   "id": "acd584cd",
   "metadata": {},
   "outputs": [
    {
     "name": "stdout",
     "output_type": "stream",
     "text": [
      "Enter number n1: 4\n"
     ]
    },
    {
     "data": {
      "text/plain": [
       "2.0"
      ]
     },
     "execution_count": 2,
     "metadata": {},
     "output_type": "execute_result"
    }
   ],
   "source": [
    "import math\n",
    "\n",
    "n1 = int(input('Enter number n1: '))\n",
    "\n",
    "n1_squareroot = math.sqrt(n1)\n",
    "n1_squareroot"
   ]
  },
  {
   "cell_type": "code",
   "execution_count": 10,
   "id": "78d47b33",
   "metadata": {},
   "outputs": [
    {
     "name": "stdout",
     "output_type": "stream",
     "text": [
      "Enter number n1: 4\n",
      "Enter number n2: 3\n",
      "Enter number n3: 2\n",
      "Enter number n4: 1\n",
      "2\n",
      "9\n",
      "16\n",
      "1\n",
      "(0.0, 2.0)\n"
     ]
    }
   ],
   "source": [
    "# task 4-2\n",
    "import math\n",
    "\n",
    "n1 = int(input('Enter number n1: '))\n",
    "n2 = int(input('Enter number n2: '))\n",
    "n3 = int(input('Enter number n3: '))\n",
    "n4 = int(input('Enter number n4: '))\n",
    "pi = 3.14\n",
    "\n",
    "n1_squareroot = math.sqrt(n1)\n",
    "n2_times_pi = n2*pi\n",
    "n3_powerof_n1 = n3**n1\n",
    "n4_factorial = math.factorial(n4)\n",
    "n4n3 = n3/n4_factorial\n",
    "\n",
    "\n",
    "print(math.ceil(n1_squareroot)) \n",
    "print(math.trunc(n2_times_pi)) \n",
    "print(math.floor(n3_powerof_n1)) \n",
    "print(n4_factorial) \n",
    "print(math.modf(n4n3)) "
   ]
  },
  {
   "cell_type": "markdown",
   "id": "e2878fdc",
   "metadata": {},
   "source": [
    "# task 5-1\n",
    "Your program should:\n",
    "\n",
    "1.\tPrompt the user to enter three string variables and store them in s1, s2 and s3\n",
    "2.\tPrint out the length of all the three strings\n",
    "3.\tPrint out s1 in all capital letters\n",
    "4.\tLocate letter a in s2 and print out the index if found or print “The letter a is not found in s2” if not found\n",
    "5.\tExtract the first 2 characters from s3 and print them out\n"
   ]
  },
  {
   "cell_type": "code",
   "execution_count": 18,
   "id": "162aaadd",
   "metadata": {},
   "outputs": [
    {
     "name": "stdout",
     "output_type": "stream",
     "text": [
      "Enter number s1: how\n",
      "Enter number s2: are\n",
      "Enter number s3: you\n",
      "length of string s 1 how is 3\n",
      "length of string s 1 are is 3\n",
      "length of string s 1 you is 3\n",
      "HOW\n",
      "0\n",
      "string 1 in all caps is HOW\n",
      "the first two characters of you is yo\n"
     ]
    }
   ],
   "source": [
    "s1 = str(input('Enter number s1: '))\n",
    "s2 = str(input('Enter number s2: '))\n",
    "s3 = str(input('Enter number s3: '))\n",
    "\n",
    "print(f'length of string s 1 {s1} is {len(s1)}')  \n",
    "print(f'length of string s 1 {s2} is {len(s2)}')\n",
    "print(f'length of string s 1 {s3} is {len(s3)}')\n",
    "\n",
    "print(s1.upper())\n",
    "\n",
    "print(s2.find('a'))\n",
    "\n",
    "print(f'string 1 in all caps is {s1.upper()}')\n",
    "\n",
    "print(f'the first two characters of {s3} is {s3[0:2]}')\n"
   ]
  },
  {
   "cell_type": "markdown",
   "id": "56d5bb1c",
   "metadata": {},
   "source": [
    "# task 5-2\n",
    "Write a Python program to achieve the following:\n",
    "\n",
    "1.\tprompt the user to enter 3 random strings of at least 8 characters long, each separated by a comma\n",
    "\n",
    "A sample of what the user might enter is given below\n",
    "\n",
    "When Breath Becomes Air,The 91-Storey Treehouse,Harry Potter and the Prisoner of Azkaban\n",
    "\n",
    "2.\tuse the split() function in Python to separate the strings and store the separated strings into three variables, s1, s2 and s3\n",
    "\n",
    "3.\tPerform the following operations on each string:\n",
    "\n",
    "•\tCalculate the length of each string\n",
    "•\tExtract the 2nd and third characters of s1, fifth to seven characters of s2 and last two characters of s3\n",
    "•\tYour output should look similar to that shown below\n"
   ]
  },
  {
   "cell_type": "code",
   "execution_count": 4,
   "id": "ea39df6a",
   "metadata": {},
   "outputs": [
    {
     "name": "stdout",
     "output_type": "stream",
     "text": [
      "Enter three strings\n",
      "how, are, you\n",
      "\n",
      "The string of a is how, b is are and c is you\n"
     ]
    }
   ],
   "source": [
    "# Taking 3 inputs\n",
    "\n",
    "a, b, c = [str(x) for x in input(\"Enter three strings\\n\").split(', ')]\n",
    "print(\"\\nThe string of a is {}, b is {} and c is {}\".format(a, b, c))"
   ]
  },
  {
   "cell_type": "code",
   "execution_count": 26,
   "id": "869440f6",
   "metadata": {},
   "outputs": [
    {
     "name": "stdout",
     "output_type": "stream",
     "text": [
      "enter 3 random strings of at least 8 characters long, each separated by a comma: When Breath Becomes Air,The 91-Storey Treehouse,Harry Potter and the Prisoner of Azkaban\n",
      "s1 is When Breath Becomes Air\n",
      "length of When Breath Becomes Air is 23\n",
      "2nd and 3rd character of When Breath Becomes Air is he\n",
      "s1 is The 91-Storey Treehouse\n",
      "length of The 91-Storey Treehouse is 23\n",
      "5th to 7th characters of The 91-Storey Treehouse is 91-\n",
      "s1 is Harry Potter and the Prisoner of Azkaban\n",
      "length of Harry Potter and the Prisoner of Azkaban is 40\n",
      "last two characters of Harry Potter and the Prisoner of Azkaban is an\n"
     ]
    }
   ],
   "source": [
    "string = input('enter 3 random strings of at least 8 characters long, each separated by a comma: ')\n",
    "word = string.split(sep=',')\n",
    "s1 = word[0]\n",
    "s2 = word[1]\n",
    "s3 = word[2]\n",
    "\n",
    "print(f's1 is {s1}')\n",
    "print(f'length of {s1} is {len(s1)}')\n",
    "print(f'2nd and 3rd character of {s1} is {s1[1:3]}')\n",
    "\n",
    "print(f's1 is {s2}')\n",
    "print(f'length of {s2} is {len(s2)}')\n",
    "print(f'5th to 7th characters of {s2} is {s2[4:7]}')\n",
    "\n",
    "print(f's1 is {s3}')\n",
    "print(f'length of {s3} is {len(s3)}')\n",
    "print(f'last two characters of {s3} is {s3[-2:]}')\n",
    "        "
   ]
  },
  {
   "cell_type": "markdown",
   "id": "92c2914f",
   "metadata": {},
   "source": [
    "# Task 6-1: Odd or even\n",
    "\n",
    "Ask the user for a number. If the input is not numeric, display an error message. \n",
    "Hint: use the isnumeric() function.\n",
    "\n",
    "If the input is numeric, check if the number is even or odd and print out an appropriate message to the user.  \n",
    "\n",
    "Hint: Use the % modulus operator which gives the remainder when a number x is divided by another number y.\n",
    "\n",
    "Your program should display output similar to that shown below.\n"
   ]
  },
  {
   "cell_type": "code",
   "execution_count": 3,
   "id": "74e7056f",
   "metadata": {},
   "outputs": [
    {
     "name": "stdout",
     "output_type": "stream",
     "text": [
      "Enter a number: 3\n",
      "{num} is Odd number\n"
     ]
    }
   ],
   "source": [
    "# task 6-1\n",
    "num = input(\"Enter a number: \")\n",
    "\n",
    "if num.isnumeric():\n",
    "    num = int(num)\n",
    "    if num % 2 == 0:\n",
    "        print(\"{num} is Even number\")\n",
    "    else:\n",
    "        print(\"{num} is Odd number\")\n",
    "        \n",
    "else:\n",
    "    print(f\"you didn't enter a number\")"
   ]
  },
  {
   "cell_type": "markdown",
   "id": "fd04e320",
   "metadata": {},
   "source": [
    "# Task 6-2: Spdonalds (SUBMISSION REQUIRED)\n",
    "\n",
    "Write a Python program that displays a breakfast menu to the user, asks him for the food he wants to buy and calculates the amount he must pay for the food\n",
    "\n",
    "Your program should:\n",
    "\n",
    "1.\tShow the user a menu consisting of the breakfast menu choices as shown in Fig. 4 and 5\n",
    "2.\tPrompt the user to enter his breakfast choice\n",
    "3.\tDisplay and error message and terminate the program if the choice is invalid\n",
    "4.\tIf breakfast choice is valid, prompt him to enter the quantity he wants to buy\n",
    "5.\tCalculate and display the total amount he must pay \n"
   ]
  },
  {
   "cell_type": "code",
   "execution_count": 32,
   "id": "1f2c84a4",
   "metadata": {},
   "outputs": [
    {
     "name": "stdout",
     "output_type": "stream",
     "text": [
      "Welcome to SPDonalds\n",
      "Below is our Breakfirst menu:\n",
      "1.SPMuffin ($5.00) 2.SPancakes ($3.00) 3. SPHashbrown ($1.50)\n",
      "Enter your choice of food:8\n",
      "Sorry, you have entered an invalid choice. Existing program has choice of 1, 2, 3\n"
     ]
    }
   ],
   "source": [
    "print('Welcome to SPDonalds')\n",
    "print('Below is our Breakfirst menu:')\n",
    "print(\"1.SPMuffin ($5.00) 2.SPancakes ($3.00) 3. SPHashbrown ($1.50)\")\n",
    "\n",
    "food = int(input(\"Enter your choice of food:\"))\n",
    "\n",
    "if food==1:\n",
    "   print(\"your choice is 1.SPMuffin ($5.00)\")\n",
    "   amount = int(input('please enter quanity you want to buy: '))\n",
    "   print(f'The total amount is ${amount*5}')\n",
    "\n",
    "elif food==2:\n",
    "   print(\"your choice is 2.SPancakes ($3.00)\")  \n",
    "   amount = int(input('please enter quanity you want to buy: '))\n",
    "   print(f'The total amount is ${amount*3}')\n",
    "\n",
    "elif food==3:\n",
    "   print(\"your choice is SPHashbrown ($1.50)\")\n",
    "   amount = int(input('please enter quanity you want to buy: '))\n",
    "   print(f'The total amount is ${amount*1.5}')\n",
    "\n",
    "\n",
    "else:\n",
    "   print(\"Sorry, you have entered an invalid choice. Existing program has choice of 1, 2, 3\")\n",
    "\n"
   ]
  },
  {
   "cell_type": "markdown",
   "id": "c0bece49",
   "metadata": {},
   "source": [
    "# Task 7-1: Repeat a user-specified message \n",
    "\n",
    "Write a program that will ask the user for a message and the number of times they want that message displayed. Then output the message as specified."
   ]
  },
  {
   "cell_type": "code",
   "execution_count": 13,
   "id": "6a86839a",
   "metadata": {},
   "outputs": [
    {
     "name": "stdout",
     "output_type": "stream",
     "text": [
      "Input a message: hello world\n",
      "Input the number of times that the messaged to be displayed: 3\n",
      "{'hello world'}\n",
      "{'hello world'}\n",
      "{'hello world'}\n"
     ]
    }
   ],
   "source": [
    "message = str(input('Input a message: '))\n",
    "times_displayed = int(input('Input the number of times that the messaged to be displayed: '))\n",
    "\n",
    "for i in range(times_displayed):\n",
    "    print({message})"
   ]
  },
  {
   "cell_type": "markdown",
   "id": "c4139624",
   "metadata": {},
   "source": [
    "# Task 7-2: Calculate sum of numbers within a range (SUBMISSION REQUIRED)\n",
    "\n",
    "Write a Python program that calculates the sum of all the numbers from x to y, where x and y are  numbers entered by the user.\n",
    "\n",
    "Your program should:\n",
    "\n",
    "1.\tInform the user the purpose of the program as shown in the screenshot below\n",
    "2.\tPrompt the user to enter the value for x and y.\n",
    "3.\tcheck if 1) x and y are numeric 2) higher than zero 3) y is greater than x. If not, display an error message and terminate the program.\n",
    "4.\tUse a for loop to calculate the sum of numbers from x to y and store the final value in the variable sum_of_numbers\n",
    "5.\tDisplay sum_of_numbers \n"
   ]
  },
  {
   "cell_type": "code",
   "execution_count": 75,
   "id": "a7ced063",
   "metadata": {},
   "outputs": [
    {
     "name": "stdout",
     "output_type": "stream",
     "text": [
      "This program printsn the sum of a range of numbers from x to y.\n",
      "For example, if x is 10 and y is 50, the program will print tye sum of numbers from 10 to 50\n",
      "Please enter the value of x: 2\n",
      "Please enter the value of y: 4\n",
      "The sum is 9\n"
     ]
    }
   ],
   "source": [
    "# task 7-2\n",
    "\n",
    "print('This program printsn the sum of a range of numbers from x to y.')\n",
    "print('For example, if x is 10 and y is 50, the program will print tye sum of numbers from 10 to 50')\n",
    "\n",
    "x = input('Please enter the value of x: ')\n",
    "y = input('Please enter the value of y: ')\n",
    "\n",
    "if x.isnumeric() and y.isnumeric():\n",
    "    x = int(x)\n",
    "    y = int(y)\n",
    "    \n",
    "    if x > 0 and y > 0:\n",
    "        # print(\"x and y are positive number\")\n",
    "        \n",
    "        if y > x:\n",
    "            total = 0\n",
    "            for i in range(x,y+1):\n",
    "                total = total + i\n",
    "            print(f'The sum is {total}')\n",
    "        else:\n",
    "            print(f\"y is not greater than x\")\n",
    "            \n",
    "    else:\n",
    "        print(f\"one ore more inputs is not greater than zero\")         \n",
    "        \n",
    "else:\n",
    "    print(f\"one or more inputs are not numbers\")\n"
   ]
  },
  {
   "cell_type": "markdown",
   "id": "4ff96779",
   "metadata": {},
   "source": [
    "# Task 8-1: Count down timer\n",
    "\n",
    "Create a program using while loop which will prompt the user to enter the number of seconds he wishes to count down, then indicate how long there is to go before time runs outs. When the time runs out it should display “Time is up!”\n"
   ]
  },
  {
   "cell_type": "code",
   "execution_count": 3,
   "id": "071b0324",
   "metadata": {},
   "outputs": [
    {
     "name": "stdout",
     "output_type": "stream",
     "text": [
      "Enter the time in seconds: 2\n",
      "Time is up!\n"
     ]
    }
   ],
   "source": [
    "# import the time module\n",
    "import time\n",
    "  \n",
    "# define the countdown func.\n",
    "def countdown(t):\n",
    "    \n",
    "    while t:\n",
    "        mins, secs = divmod(t, 60)\n",
    "        timer = '{:02d}:{:02d}'.format(mins, secs)\n",
    "        print(timer, end=\"\\r\")\n",
    "        time.sleep(1)\n",
    "        t -= 1\n",
    "      \n",
    "    print('Time is up!')\n",
    "  \n",
    "  \n",
    "# input time in seconds\n",
    "t = input(\"Enter the time in seconds: \")\n",
    "  \n",
    "# function call\n",
    "countdown(int(t))"
   ]
  },
  {
   "cell_type": "code",
   "execution_count": 20,
   "id": "15afa145",
   "metadata": {},
   "outputs": [
    {
     "name": "stdout",
     "output_type": "stream",
     "text": [
      "Enter the number of seconds to count down: 3\n",
      "3 seconds is to go before time runs out.\n",
      "2 seconds is to go before time runs out.\n",
      "1 seconds is to go before time runs out.\n",
      "Time is up\n"
     ]
    }
   ],
   "source": [
    "from time import sleep\n",
    "\n",
    "count_time = int(input('Enter the number of seconds to count down: '))\n",
    "\n",
    "t = 0\n",
    "while t < count_time:\n",
    "    tr = count_time - t\n",
    "    print(f'{tr} seconds is to go before time runs out.')\n",
    "    sleep(1)\n",
    "    t +=1\n",
    "    \n",
    "print(f'Time is up')"
   ]
  },
  {
   "cell_type": "markdown",
   "id": "c488a08f",
   "metadata": {},
   "source": [
    "# Task 8-2: High-low number game \n",
    "\n",
    "Write a Python ‘game’ that generates a random number and repeatedly allows the user to guess the number by giving him hints until he gets it right.\n",
    "\n",
    "Your program should:\n",
    "\n",
    "1.\tAsk the user to select the lower limit and the upper limit that the random number should be generated within\n",
    "2.\tAfter obtaining the lower and upper limits, generate a random number between that range, and store it in a variable named secret_number\n",
    "3.\tWrite a while loop that repeatedly performs the following actions until the user guesses the random number correctly\n",
    "a.\tPrompt the user to guess the value of the number\n",
    "b.\tIf his guess is higher than the actual random number, print “Too high”\n",
    "c.\tIf his guess is lower than the actual random number, print “Too low”\n",
    "d.\tIf his guess is equal to the random number, print “You are right!” and exit the loop\n"
   ]
  },
  {
   "cell_type": "code",
   "execution_count": 36,
   "id": "e3dcc93f",
   "metadata": {},
   "outputs": [
    {
     "name": "stdout",
     "output_type": "stream",
     "text": [
      "Select the number lower limit: 1\n",
      "Select the number upper limit: 10\n",
      "Please input a number you guessed: 2\n",
      "The number you guessed is not correct.\n",
      "Too low\n",
      "Please input a number you guessed: 5\n",
      "Sorry the number you entered is incorrect - try again\n",
      "The number you guessed is not correct.\n",
      "Too high\n",
      "Please input a number you guessed: 3\n",
      "Your are right!\n"
     ]
    }
   ],
   "source": [
    "import random\n",
    "\n",
    "selectlowerlimit = int(input(\"Select the number lower limit: \"))\n",
    "selectupperlimit = int(input(\"Select the number upper limit: \"))\n",
    "\n",
    "# secret_number = random.randint(selectlowerlimit,selectupperlimit)\n",
    "secret_number = 3\n",
    "\n",
    "\n",
    "guess_number = int(input(\"Please input a number you guessed: \"))\n",
    "\n",
    "while guess_number != secret_number:\n",
    "    print(f'The number you guessed is not correct.')\n",
    "        \n",
    "    if guess_number > secret_number:\n",
    "        print(f'Too high')\n",
    "                        \n",
    "    elif guess_number < secret_number:\n",
    "        print(f'Too low') \n",
    "                \n",
    "    else:\n",
    "            print(\" Sorry the number you entered is incorrect - try again\")\n",
    "        \n",
    "    guess_number = int(input(\"Please input a number you guessed: \"))\n",
    "                \n",
    "    if guess_number == secret_number:\n",
    "        print(\"Your are right!\")\n",
    "    else:\n",
    "        print(\"Sorry the number you entered is incorrect - try again\")\n"
   ]
  },
  {
   "cell_type": "markdown",
   "id": "f8b44905",
   "metadata": {},
   "source": [
    "# Task 9-1: Lists (Elements less than 5)\n",
    "\n",
    "Given the following Python list, write a program that prints all the elements of the list that are less than 5.\n",
    "\n",
    "aList = [1, 1, 2, 3, 5, 8, 13, 21, 34, 55, 89]"
   ]
  },
  {
   "cell_type": "code",
   "execution_count": 56,
   "id": "e18b73d0",
   "metadata": {},
   "outputs": [
    {
     "name": "stdout",
     "output_type": "stream",
     "text": [
      "The list element are [1, 1, 2, 3, 5, 8, 13, 21, 34, 55, 89]\n",
      "1\n",
      "1\n",
      "2\n",
      "3\n"
     ]
    }
   ],
   "source": [
    "# task 9-1\n",
    "\n",
    "aList = [1, 1, 2, 3, 5, 8, 13, 21, 34, 55, 89]\n",
    "print(f'The list element are {aList}')\n",
    "\n",
    "for i in range(len(aList)):\n",
    "    if aList[i] < 5:\n",
    "        print(aList[i]) "
   ]
  },
  {
   "cell_type": "code",
   "execution_count": 57,
   "id": "25509e1c",
   "metadata": {},
   "outputs": [
    {
     "name": "stdout",
     "output_type": "stream",
     "text": [
      "The list element are [1, 1, 2, 3, 5, 8, 13, 21, 34, 55, 89]\n",
      "1\n",
      "1\n",
      "2\n",
      "3\n"
     ]
    }
   ],
   "source": [
    "# task 9-1\n",
    "\n",
    "aList = [1, 1, 2, 3, 5, 8, 13, 21, 34, 55, 89]\n",
    "print(f'The list element are {aList}')\n",
    "\n",
    "for i in aList:\n",
    "    if i < 5:\n",
    "        print(i) "
   ]
  },
  {
   "cell_type": "markdown",
   "id": "4f9ddf30",
   "metadata": {},
   "source": [
    "# Task 9-2: Lists (max, min, sorted, reverse)\n",
    "\n",
    "Write a Python program that prompts the user to enter a list of 5 numbers and prints the maximum and minimum values that were entered.  In addition, print the list sorted in reverse order (highest numbers first).\n"
   ]
  },
  {
   "cell_type": "code",
   "execution_count": 66,
   "id": "804d6a6f",
   "metadata": {},
   "outputs": [
    {
     "name": "stdout",
     "output_type": "stream",
     "text": [
      "Enter number 1: 1\n",
      "Enter number 2: 2\n",
      "Enter number 3: 3\n",
      "Enter number 4: 4\n",
      "Enter number 5: 5\n",
      "[1, 2, 3, 4, 5]\n",
      "5\n",
      "1\n",
      "the sorted list in reverse order is [5, 4, 3, 2, 1]\n"
     ]
    }
   ],
   "source": [
    "# task 9-2\n",
    "\n",
    "mylist = []\n",
    "\n",
    "for i in range(5):\n",
    "    num = int(input(f'Enter number {i+1}: '))\n",
    "    mylist.append(num)\n",
    "\n",
    "print(mylist)\n",
    "print(max(mylist))\n",
    "print(min(mylist))\n",
    "\n",
    "mylist.sort()\n",
    "mylist.reverse()\n",
    "\n",
    "\n",
    "print(f'the sorted list in reverse order is {mylist}')\n"
   ]
  },
  {
   "cell_type": "markdown",
   "id": "6e14bcae",
   "metadata": {},
   "source": [
    "# Task 9-3: List Slicing (SUBMISSION REQUIRED)\n",
    "\n",
    "Given the three Python lists below,  provide the code that will retrieve the required elements in each list.\n",
    "\n",
    "list_1 = [300,50,80,90,199,800,74,33]\n",
    "list_2 = ['Apple','Banana','Durian','Grapes','Papaya','Watermelon']\n",
    "list_3 = [0.0, 1.1, 2.2, 3.3, 4.4, 5.5, 6.6, 7.7, 8.8,9.9]\n",
    "\n",
    "(a)\tThe numbers 800, 74 and 33 in list_1\n",
    "(b)\tThe last two elements in list_2\n",
    "(c)\tAll the elements in list_3 except the first and the last\n",
    "\n"
   ]
  },
  {
   "cell_type": "code",
   "execution_count": 76,
   "id": "7dd7d744",
   "metadata": {},
   "outputs": [
    {
     "name": "stdout",
     "output_type": "stream",
     "text": [
      "[800, 74, 33]\n",
      "['Papaya', 'Watermelon']\n",
      "[1.1, 2.2, 3.3, 4.4, 5.5, 6.6, 7.7, 8.8]\n"
     ]
    }
   ],
   "source": [
    "# task 9-3\n",
    "\n",
    "list_1 = [300,50,80,90,199,800,74,33]\n",
    "list_2 = ['Apple','Banana','Durian','Grapes','Papaya','Watermelon']\n",
    "list_3 = [0.0, 1.1, 2.2, 3.3, 4.4, 5.5, 6.6, 7.7, 8.8,9.9]\n",
    "\n",
    "# print(max(list_1))\n",
    "# print(min(list_1))\n",
    "print(list_1[-3:])\n",
    "\n",
    "print(list_2[-2:])\n",
    "\n",
    "print(list_3[1:-1])"
   ]
  },
  {
   "cell_type": "markdown",
   "id": "e0850d74",
   "metadata": {},
   "source": [
    "# Task 10-1: Scissors, Paper, Stone\n",
    "\n",
    "Write a Python function compare(input1, input2) that takes in two string inputs which can be one of these values: Scissors, Paper or Stone.   Your function should return two outputs: a message and a True or False value as follows:\n",
    "\n",
    "•\tIf the two inputs are the same, e.g. both are “Scissors”, return “It’s a tie”, False\n",
    "•\tIf input1 is “Scissors” and input2 is “Paper”, return “Scissors wins!”, False\n",
    "•\tIf input1 is “Scissors” and input2 is “Stone”, return “Stone wins!”, False\n",
    "•\tIf input1 is “Paper” and input2 is “Scissors”, return “Scissors wins!”, False\n",
    "•\tIf input1 is “Paper” and input2 is “Stone”, return “Paper wins!”, False\n",
    "\t•\tIf input1 is “Stone” and input2 is “Scissors”, return “Stone wins!”, False\n",
    "•\tIf input1 is “Stone” and input2 is “Paper”, return “Paper wins!”, False\n",
    "•\tIf input1 is “Quit” or input2 is “Quit”, return “Quitting the program”, True\n",
    "•\tIf either of input1 or input2 is not one of these values: Scissors, Paper, Stone, Quit, then return “Invalid input. Please try again”, False\n",
    "\n",
    "Using this function, create a Python program that simulates a two-player Scissors-Paper-Stone game that keeps repeating until any one of the user keys in a “quit” as his choice.  A sample run is shown below.\n"
   ]
  },
  {
   "cell_type": "code",
   "execution_count": 100,
   "id": "5dfac56a",
   "metadata": {},
   "outputs": [
    {
     "name": "stdout",
     "output_type": "stream",
     "text": [
      "Enter a choice input1 (Scissors, Paper, Stone): e\n",
      "Enter a choice input2 (Scissors, Paper, Stone): s\n",
      "Incorrect input, try again\n"
     ]
    }
   ],
   "source": [
    "def compare(input1,input2):\n",
    "          \n",
    "    if input1 == \"Quit\" and input2 == \"Quit\":\n",
    "        print(\"Quitting the program. True\")\n",
    "        \n",
    "    elif input1 == \"Scissors\" and input2 == \"Paper\":\n",
    "        print(\"Scissors wins! False\")\n",
    "     \n",
    "    elif input1 == \"Scissors\" and input2 == \"Stone\":\n",
    "        print(\"Stone wins! False\")\n",
    "    \n",
    "    elif input1 == \"Paper\" and input2 == \"Scissors\":\n",
    "        print(\"Scissors wins! False\")\n",
    "        \n",
    "    elif input1 == \"Paper\" and input2 == \"Stone\":\n",
    "        print(\"Paper wins! False\")    \n",
    "        \n",
    "    elif input1 == \"Stone\" and input2 == \"Scissors\":\n",
    "        print(\"Stone wins! False\")\n",
    "        \n",
    "    elif input1 == \"Stone\" and input2 == \"Paper\":\n",
    "        print(\"Paper wins! False\")\n",
    "        \n",
    "    elif input1 == input2:\n",
    "        print(f\"Both are {input1}. It's a tie!, False\")\n",
    "        \n",
    "    else:\n",
    "        print(\"Incorrect input, try again\")\n",
    "        \n",
    "input1 = input(\"Enter a choice input1 (Scissors, Paper, Stone): \")\n",
    "input2 = input(\"Enter a choice input2 (Scissors, Paper, Stone): \")\n",
    "\n",
    "compare(input1,input2)"
   ]
  },
  {
   "cell_type": "code",
   "execution_count": 86,
   "id": "ad2a10ea",
   "metadata": {},
   "outputs": [
    {
     "ename": "IndentationError",
     "evalue": "unindent does not match any outer indentation level (<tokenize>, line 6)",
     "output_type": "error",
     "traceback": [
      "\u001b[1;36m  File \u001b[1;32m\"<tokenize>\"\u001b[1;36m, line \u001b[1;32m6\u001b[0m\n\u001b[1;33m    if input1 == input2:\u001b[0m\n\u001b[1;37m    ^\u001b[0m\n\u001b[1;31mIndentationError\u001b[0m\u001b[1;31m:\u001b[0m unindent does not match any outer indentation level\n"
     ]
    }
   ],
   "source": [
    "def compare(input1,input2):\n",
    "     inputlist = [Scissors,Paper,Stone]\n",
    "     input1 = inputlist[n]\n",
    "     input2 = inputlis[n]\n",
    "      \n",
    "    if input1 == input2:\n",
    "        print(f\"Both are {input1}. It's a tie!, False\")\n",
    "        \n",
    "    elif input1 == \"Scissors\" and input2 == \"Paper\":\n",
    "        print(\"Scissors wins! False\")\n",
    "        \n",
    "input1 = input(\"Enter a choice input1 (rock, paper, scissors): \")\n",
    "input2 = input(\"Enter a choice input2 (rock, paper, scissors): \")\n",
    "\n",
    "compare(input1,input2)"
   ]
  },
  {
   "cell_type": "code",
   "execution_count": 40,
   "id": "c27b7d51",
   "metadata": {},
   "outputs": [
    {
     "name": "stdout",
     "output_type": "stream",
     "text": [
      "Enter a choice (rock, paper, scissors): paper\n",
      "\n",
      "You chose paper, computer chose scissors.\n",
      "\n",
      "Scissors cuts paper! You lose.\n"
     ]
    }
   ],
   "source": [
    "import random\n",
    "\n",
    "user_action = input(\"Enter a choice (rock, paper, scissors): \")\n",
    "possible_actions = [\"rock\", \"paper\", \"scissors\"]\n",
    "computer_action = random.choice(possible_actions)\n",
    "print(f\"\\nYou chose {user_action}, computer chose {computer_action}.\\n\")\n",
    "\n",
    "if user_action == computer_action:\n",
    "    print(f\"Both players selected {user_action}. It's a tie!\")\n",
    "elif user_action == \"rock\":\n",
    "    if computer_action == \"scissors\":\n",
    "        print(\"Rock smashes scissors! You win!\")\n",
    "    else:\n",
    "        print(\"Paper covers rock! You lose.\")\n",
    "elif user_action == \"paper\":\n",
    "    if computer_action == \"rock\":\n",
    "        print(\"Paper covers rock! You win!\")\n",
    "    else:\n",
    "        print(\"Scissors cuts paper! You lose.\")\n",
    "elif user_action == \"scissors\":\n",
    "    if computer_action == \"paper\":\n",
    "        print(\"Scissors cuts paper! You win!\")\n",
    "    else:\n",
    "        print(\"Rock smashes scissors! You lose.\")"
   ]
  },
  {
   "cell_type": "code",
   "execution_count": 41,
   "id": "fbce3362",
   "metadata": {},
   "outputs": [
    {
     "name": "stdout",
     "output_type": "stream",
     "text": [
      "Enter a choice (rock, paper, scissors): paper\n",
      "\n",
      "You chose paper, computer chose scissors.\n",
      "\n",
      "Scissors cuts paper! You lose.\n",
      "Play again? (y/n): y\n",
      "Enter a choice (rock, paper, scissors): rock\n",
      "\n",
      "You chose rock, computer chose paper.\n",
      "\n",
      "Paper covers rock! You lose.\n",
      "Play again? (y/n): n\n"
     ]
    }
   ],
   "source": [
    "import random\n",
    "\n",
    "while True:\n",
    "    user_action = input(\"Enter a choice (rock, paper, scissors): \")\n",
    "    possible_actions = [\"rock\", \"paper\", \"scissors\"]\n",
    "    computer_action = random.choice(possible_actions)\n",
    "    print(f\"\\nYou chose {user_action}, computer chose {computer_action}.\\n\")\n",
    "\n",
    "    if user_action == computer_action:\n",
    "        print(f\"Both players selected {user_action}. It's a tie!\")\n",
    "    elif user_action == \"rock\":\n",
    "        if computer_action == \"scissors\":\n",
    "            print(\"Rock smashes scissors! You win!\")\n",
    "        else:\n",
    "            print(\"Paper covers rock! You lose.\")\n",
    "    elif user_action == \"paper\":\n",
    "        if computer_action == \"rock\":\n",
    "            print(\"Paper covers rock! You win!\")\n",
    "        else:\n",
    "            print(\"Scissors cuts paper! You lose.\")\n",
    "    elif user_action == \"scissors\":\n",
    "        if computer_action == \"paper\":\n",
    "            print(\"Scissors cuts paper! You win!\")\n",
    "        else:\n",
    "            print(\"Rock smashes scissors! You lose.\")\n",
    "\n",
    "    play_again = input(\"Play again? (y/n): \")\n",
    "    if play_again.lower() != \"y\":\n",
    "        break"
   ]
  },
  {
   "cell_type": "code",
   "execution_count": 46,
   "id": "ca266e2a",
   "metadata": {},
   "outputs": [],
   "source": [
    "import random\n",
    "from enum import IntEnum\n",
    "\n",
    "class Action(IntEnum):\n",
    "    Rock = 0\n",
    "    Paper = 1\n",
    "    Scissors = 2\n",
    "    \n",
    "def get_user_selection():\n",
    "    user_input = input(\"Enter a choice (rock[0], paper[1], scissors[2]): \")\n",
    "    selection = int(user_input)\n",
    "    action = Action(selection)\n",
    "    return action\n",
    "\n",
    "def get_computer_selection():\n",
    "    selection = random.randint(0, len(Action) - 1)\n",
    "    action = Action(selection)\n",
    "    return action\n",
    "\n",
    "def determine_winner(user_action, computer_action):\n",
    "    if user_action == computer_action:\n",
    "        print(f\"Both players selected {user_action.name}. It's a tie!\")\n",
    "    elif user_action == Action.Rock:\n",
    "        if computer_action == Action.Scissors:\n",
    "            print(\"Rock smashes scissors! You win!\")\n",
    "        else:\n",
    "            print(\"Paper covers rock! You lose.\")\n",
    "    elif user_action == Action.Paper:\n",
    "        if computer_action == Action.Rock:\n",
    "            print(\"Paper covers rock! You win!\")\n",
    "        else:\n",
    "            print(\"Scissors cuts paper! You lose.\")\n",
    "    elif user_action == Action.Scissors:\n",
    "        if computer_action == Action.Paper:\n",
    "            print(\"Scissors cuts paper! You win!\")\n",
    "        else:\n",
    "            print(\"Rock smashes scissors! You lose.\")"
   ]
  },
  {
   "cell_type": "code",
   "execution_count": 44,
   "id": "d05e8617",
   "metadata": {},
   "outputs": [
    {
     "name": "stdout",
     "output_type": "stream",
     "text": [
      "Enter a choice (rock, paper, scissors): 1\n",
      "\n",
      "You chose 1, computer chose rock.\n",
      "\n"
     ]
    }
   ],
   "source": [
    "import random\n",
    "\n",
    "user_action = input(\"Enter a choice (rock, paper, scissors): \")\n",
    "possible_actions = [\"rock\", \"paper\", \"scissors\"]\n",
    "computer_action = random.choice(possible_actions)\n",
    "\n",
    "print(f\"\\nYou chose {user_action}, computer chose {computer_action}.\\n\")\n",
    "\n",
    "\n",
    "from enum import IntEnum\n",
    "\n",
    "class Action(IntEnum):\n",
    "    Rock = 0\n",
    "    Paper = 1\n",
    "    Scissors = 2\n",
    "    \n",
    "def get_user_selection():\n",
    "    user_input = input(\"Enter a choice (rock[0], paper[1], scissors[2]): \")\n",
    "    selection = int(user_input)\n",
    "    action = Action(selection)\n",
    "    return action\n",
    "\n",
    "def determine_winner(user_action, computer_action):\n",
    "    if user_action == computer_action:\n",
    "        print(f\"Both players selected {user_action.name}. It's a tie!\")\n",
    "    elif user_action == Action.Rock:\n",
    "        if computer_action == Action.Scissors:\n",
    "            print(\"Rock smashes scissors! You win!\")\n",
    "        else:\n",
    "            print(\"Paper covers rock! You lose.\")\n",
    "    elif user_action == Action.Paper:\n",
    "        if computer_action == Action.Rock:\n",
    "            print(\"Paper covers rock! You win!\")\n",
    "        else:\n",
    "            print(\"Scissors cuts paper! You lose.\")\n",
    "    elif user_action == Action.Scissors:\n",
    "        if computer_action == Action.Paper:\n",
    "            print(\"Scissors cuts paper! You win!\")\n",
    "        else:\n",
    "            print(\"Rock smashes scissors! You lose.\")\n",
    "    "
   ]
  },
  {
   "cell_type": "markdown",
   "id": "3be51943",
   "metadata": {},
   "source": [
    "# Task 10-2: Odd and Even (SUBMISSION REQUIRED)\n",
    "\n",
    "Write a Python function that takes in a list of numbers, and outputs them into two lists, one consisting of even numbers, and the other odd numbers.\n",
    "\n",
    "Your program should:\n",
    "\n",
    "1.\tGenerate a list with 20 random numbers in the range of 1 to 100 and store them in the  variable original_list.  Hint: You can generate a list of numbers using list comprehension and the random.randint() function\n",
    "\n",
    "Example: \n",
    "# Generate 1000 numbers from 1 to 10\n",
    "numbers = [random.randint(1,10) for x in range(0,1000)] \n",
    "\n",
    "2.\tDefine a function called oddandeven(numbers_list) that takes in one parameter of  type list containing a list of numbers and returns two outputs of two lists, one that contains even numbers, and the other that contains odd numbers\n",
    "3.\tAfter writing your function, call the oddandeven(numbers_list)  function, passing in original_list as the parameter, and storing the outputs of the function as even_numbers and odd_numbers respectively\n",
    "4.\tPrint the contents of even_numbers and odd_numbers as shown below"
   ]
  },
  {
   "cell_type": "code",
   "execution_count": 86,
   "id": "4c68af6b",
   "metadata": {},
   "outputs": [
    {
     "name": "stdout",
     "output_type": "stream",
     "text": [
      "[86, 36, 96, 42, 62, 31, 18, 93, 92, 3, 29, 54, 1, 87, 33, 49, 0, 50, 70, 60]\n",
      "([86, 36, 96, 42, 62, 18, 92, 54, 0, 50, 70, 60], [31, 93, 3, 29, 1, 87, 33, 49])\n"
     ]
    }
   ],
   "source": [
    "# task 10-2\n",
    "\n",
    "import random\n",
    "original_list = random.sample(range(0, 100), 20)\n",
    "print(original_list)\n",
    "\n",
    "def oddandeven(numbers_list):\n",
    "    even_numbers = []\n",
    "    odd_numbers = []\n",
    "    \n",
    "    for n in numbers_list:\n",
    "        if n % 2 == 0:\n",
    "            even_numbers.append(n)\n",
    "        else:\n",
    "            odd_numbers.append(n)\n",
    "            \n",
    "    return even_numbers, odd_numbers\n",
    "\n",
    "oddandeven(original_list)\n",
    "print(f'{oddandeven(original_list)}')"
   ]
  }
 ],
 "metadata": {
  "kernelspec": {
   "display_name": "Python 3 (ipykernel)",
   "language": "python",
   "name": "python3"
  },
  "language_info": {
   "codemirror_mode": {
    "name": "ipython",
    "version": 3
   },
   "file_extension": ".py",
   "mimetype": "text/x-python",
   "name": "python",
   "nbconvert_exporter": "python",
   "pygments_lexer": "ipython3",
   "version": "3.8.11"
  }
 },
 "nbformat": 4,
 "nbformat_minor": 5
}
