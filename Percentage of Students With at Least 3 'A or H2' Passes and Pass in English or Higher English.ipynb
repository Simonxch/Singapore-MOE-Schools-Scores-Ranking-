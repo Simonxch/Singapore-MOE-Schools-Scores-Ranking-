{
 "cells": [
  {
   "cell_type": "markdown",
   "id": "f026f445",
   "metadata": {},
   "source": [
    "# Analysis of students with at least 3 \"A or H2\" passes in English\n",
    "\n",
    "### Part of DATA ANALYSIS GROUP-4 PROJECT"
   ]
  },
  {
   "cell_type": "markdown",
   "id": "85051a72",
   "metadata": {},
   "source": [
    "## Project Assigment Rubrics\n",
    "\n",
    "1. Demonstrate competency in using the Python Pandas package for **data cleaning and analysis** and \n",
    "Python visualization packages for **data visualization**.\n",
    "2. Demonstrate competency in applying the insights gained from the outputs of your Python programs to \n",
    "deliver a useful data analysis presentation for your stakeholders.\n",
    "\n",
    "## Project Assigment Requirements\n",
    "\n",
    "1. Your name and the title of your data analysis.\n",
    "2. The questions you want to answer to gain deeper insights into the chosen datasets such that you are able to \n",
    "craft a ‘storyline’ or produce an interesting data analysis on it.\n",
    "3. For the chosen datasets, explain the nature of the dataset (i.e. what is in the dataset) or any pecularities\n",
    "about it you wish to highlight.\n",
    "4. Write Python code that uses the pandas package to extract useful statistical or summary information about \n",
    "the data and Python visualization package to produce useful data visualizations that explain the data.\n",
    "5. Highlight the insights you have gained from analysing the data and any conclusions or recommendations you \n",
    "want to make as a result of the analysis."
   ]
  },
  {
   "cell_type": "markdown",
   "id": "aef6bb9f",
   "metadata": {},
   "source": [
    "## Reserach Questions:\n",
    "  \n",
    "1. What's the trending of percentage-of-students with at least 3 \"A or H2\" passes?\n",
    "2. Is there any correlation between the pass rate and teachers' quolification and length of services?\n",
    "3. Is there any correlation between at 3 \"A or H2\" passes rate with at least 5 o-level passes?"
   ]
  },
  {
   "cell_type": "markdown",
   "id": "7d6d7a36",
   "metadata": {},
   "source": [
    "## Dataset file:\n",
    "\n",
    "The dataset is downloaded from https://data.gov.sg/dataset/percentage-of-students-with-at-least-3-a-h2-passes-and-pass-in-gp-or-ki"
   ]
  },
  {
   "cell_type": "markdown",
   "id": "a10a0a84",
   "metadata": {},
   "source": [
    "###  Import Libraries\n",
    "We add libraries using the <font color ='green'> **import**</font> followed by the name of the library. We also add acronyms by using <font color ='green'> **as**</font> acronyms to call the library using less characters. \n",
    "Such as <font color ='green'> **import**</font> pandas <font color ='green'> **as**</font>  pd"
   ]
  },
  {
   "cell_type": "code",
   "execution_count": 1,
   "id": "102f3d5b",
   "metadata": {},
   "outputs": [],
   "source": [
    "# Import the libraries\n",
    "import pandas as pd\n",
    "import numpy as np\n",
    "import matplotlib.pyplot as plt"
   ]
  },
  {
   "cell_type": "markdown",
   "id": "e259d8c5",
   "metadata": {},
   "source": [
    "### Data Frame\n",
    "\n",
    "Two-dimensional size-mutable, potentially heterogeneous tabular data structure with labeled axes (rows and columns). \n",
    "Arithmetic operations align on both row and column labels. The primary pandas data structure.\n",
    "\n",
    "Essentially a DataFrame is composed of the following three elements:\n",
    "\n",
    "1) the **index** labels (these are the bold numbers from 0 to 9 on the left hand side of the table)\n",
    "\n",
    "2) the **column names** (these are the bold names on the top of the table)\n",
    "\n",
    "3) the **data** itself (this is everything else inside the actual cells of the table)"
   ]
  },
  {
   "cell_type": "markdown",
   "id": "732a459f",
   "metadata": {},
   "source": [
    "### Load the dataset file"
   ]
  },
  {
   "cell_type": "code",
   "execution_count": 9,
   "id": "adba8555",
   "metadata": {},
   "outputs": [
    {
     "data": {
      "text/html": [
       "<div>\n",
       "<style scoped>\n",
       "    .dataframe tbody tr th:only-of-type {\n",
       "        vertical-align: middle;\n",
       "    }\n",
       "\n",
       "    .dataframe tbody tr th {\n",
       "        vertical-align: top;\n",
       "    }\n",
       "\n",
       "    .dataframe thead th {\n",
       "        text-align: right;\n",
       "    }\n",
       "</style>\n",
       "<table border=\"1\" class=\"dataframe\">\n",
       "  <thead>\n",
       "    <tr style=\"text-align: right;\">\n",
       "      <th></th>\n",
       "      <th>year</th>\n",
       "      <th>race</th>\n",
       "      <th>percentage_pass</th>\n",
       "    </tr>\n",
       "  </thead>\n",
       "  <tbody>\n",
       "    <tr>\n",
       "      <th>165</th>\n",
       "      <td>2020</td>\n",
       "      <td>Malay</td>\n",
       "      <td>89.3</td>\n",
       "    </tr>\n",
       "    <tr>\n",
       "      <th>166</th>\n",
       "      <td>2020</td>\n",
       "      <td>Chinese</td>\n",
       "      <td>94.5</td>\n",
       "    </tr>\n",
       "    <tr>\n",
       "      <th>167</th>\n",
       "      <td>2020</td>\n",
       "      <td>Indian</td>\n",
       "      <td>89.2</td>\n",
       "    </tr>\n",
       "    <tr>\n",
       "      <th>168</th>\n",
       "      <td>2020</td>\n",
       "      <td>Others</td>\n",
       "      <td>90.3</td>\n",
       "    </tr>\n",
       "    <tr>\n",
       "      <th>169</th>\n",
       "      <td>2020</td>\n",
       "      <td>Overall</td>\n",
       "      <td>93.7</td>\n",
       "    </tr>\n",
       "  </tbody>\n",
       "</table>\n",
       "</div>"
      ],
      "text/plain": [
       "     year     race  percentage_pass\n",
       "165  2020    Malay             89.3\n",
       "166  2020  Chinese             94.5\n",
       "167  2020   Indian             89.2\n",
       "168  2020   Others             90.3\n",
       "169  2020  Overall             93.7"
      ]
     },
     "execution_count": 9,
     "metadata": {},
     "output_type": "execute_result"
    }
   ],
   "source": [
    "df = pd.read_csv('4_percentage-of-students-with-at-least-3-a-h2-passes.csv', sep=',')\n",
    "\n",
    "df.tail()"
   ]
  },
  {
   "cell_type": "markdown",
   "id": "708dc821",
   "metadata": {},
   "source": [
    "### Shape of Dataset"
   ]
  },
  {
   "cell_type": "markdown",
   "id": "8213b533",
   "metadata": {},
   "source": [
    "The first thing that we should do when we get any new data to play with is to check out it's dimensions, what it looks like, number of rows, columns, etc. Depending on the context, we can also run preliminary checks on number of zero, null values, etc. "
   ]
  },
  {
   "cell_type": "markdown",
   "id": "2ef75c6c",
   "metadata": {},
   "source": [
    "<b><i>First thoughts and observations?</i></b>\n",
    "\n",
    "1. Missing metadata - so source for it  \n",
    "2. Categories of race\n",
    "2. any Null values and missing values"
   ]
  },
  {
   "cell_type": "code",
   "execution_count": 10,
   "id": "619f1b38",
   "metadata": {},
   "outputs": [
    {
     "name": "stdout",
     "output_type": "stream",
     "text": [
      "The shape of dataset is: (170, 3)\n",
      "\n",
      "The data types are as follows:\n",
      "year                 int64\n",
      "race                object\n",
      "percentage_pass    float64\n",
      "dtype: object\n",
      "\n",
      "The size of the dataset is: 510\n",
      "\n"
     ]
    }
   ],
   "source": [
    "# Get the dateset basic information\n",
    "print(f'The shape of dataset is: {df.shape}'), print()\n",
    "\n",
    "print(f'The data types are as follows:') \n",
    "print(df.dtypes); print()\n",
    "\n",
    "print(f'The size of the dataset is: {df.size}'); print()"
   ]
  },
  {
   "cell_type": "code",
   "execution_count": 11,
   "id": "0bd66126",
   "metadata": {},
   "outputs": [
    {
     "data": {
      "text/plain": [
       "Malay      34\n",
       "Chinese    34\n",
       "Indian     34\n",
       "Others     34\n",
       "Overall    34\n",
       "Name: race, dtype: int64"
      ]
     },
     "execution_count": 11,
     "metadata": {},
     "output_type": "execute_result"
    }
   ],
   "source": [
    "df['race'].value_counts()\n",
    "#Hint: This will also tell you when this dataset was extracted!"
   ]
  },
  {
   "cell_type": "code",
   "execution_count": 12,
   "id": "03d02391",
   "metadata": {},
   "outputs": [
    {
     "name": "stdout",
     "output_type": "stream",
     "text": [
      "<class 'pandas.core.frame.DataFrame'>\n",
      "RangeIndex: 170 entries, 0 to 169\n",
      "Data columns (total 3 columns):\n",
      " #   Column           Non-Null Count  Dtype  \n",
      "---  ------           --------------  -----  \n",
      " 0   year             170 non-null    int64  \n",
      " 1   race             170 non-null    object \n",
      " 2   percentage_pass  170 non-null    float64\n",
      "dtypes: float64(1), int64(1), object(1)\n",
      "memory usage: 4.1+ KB\n"
     ]
    }
   ],
   "source": [
    "df.info()"
   ]
  },
  {
   "cell_type": "markdown",
   "id": "0bc3e25a",
   "metadata": {},
   "source": [
    "### Extract subsets of the dataset"
   ]
  },
  {
   "cell_type": "code",
   "execution_count": 13,
   "id": "9e96a7c5",
   "metadata": {},
   "outputs": [
    {
     "data": {
      "text/plain": [
       "year               34\n",
       "race               34\n",
       "percentage_pass    34\n",
       "dtype: int64"
      ]
     },
     "execution_count": 13,
     "metadata": {},
     "output_type": "execute_result"
    }
   ],
   "source": [
    "# Subsetting rows in a dataframe\n",
    "chinese80percpassed = df[df.race == 'Chinese']\n",
    "chinese80percpassed.count()"
   ]
  },
  {
   "cell_type": "code",
   "execution_count": 14,
   "id": "fc12c59e",
   "metadata": {},
   "outputs": [
    {
     "data": {
      "text/plain": [
       "87.2235294117647"
      ]
     },
     "execution_count": 14,
     "metadata": {},
     "output_type": "execute_result"
    }
   ],
   "source": [
    "df[df['race'] == 'Chinese']['percentage_pass'].mean()"
   ]
  },
  {
   "cell_type": "code",
   "execution_count": 31,
   "id": "d05d9544",
   "metadata": {},
   "outputs": [
    {
     "name": "stdout",
     "output_type": "stream",
     "text": [
      "The year count with students with more than 80% pass rate by race: \n",
      "         percentage_pass\n",
      "race                    \n",
      "Chinese               30\n",
      "Indian                26\n",
      "Malay                 11\n",
      "Others                30\n",
      "Overall               30\n"
     ]
    }
   ],
   "source": [
    "# Subsetting rows in a dataframe\n",
    "atleast80percpassed = df[df[\"percentage_pass\"] >= 80]\n",
    "mydf3 = atleast80percpassed[['race','percentage_pass']].groupby('race').count()\n",
    "print(f'The year count with students with more than 80% pass rate by race: ')\n",
    "print(mydf3)"
   ]
  },
  {
   "cell_type": "markdown",
   "id": "040093f0",
   "metadata": {},
   "source": [
    "## Data cleaning and analysis"
   ]
  },
  {
   "cell_type": "code",
   "execution_count": 87,
   "id": "bcfb24ae",
   "metadata": {},
   "outputs": [
    {
     "data": {
      "text/plain": [
       "year               0\n",
       "race               0\n",
       "percentage_pass    0\n",
       "dtype: int64"
      ]
     },
     "execution_count": 87,
     "metadata": {},
     "output_type": "execute_result"
    }
   ],
   "source": [
    "# count the missing value\n",
    "df.isna().sum()"
   ]
  },
  {
   "cell_type": "markdown",
   "id": "1100e3ba",
   "metadata": {},
   "source": [
    "From the information of the dataset stated above, there is no null valuses in the dataset. <br> However we can still use the fillna or dropna for data cleaning in case the dataset is updated with null or missing values in future. "
   ]
  },
  {
   "cell_type": "code",
   "execution_count": 18,
   "id": "21e38837",
   "metadata": {},
   "outputs": [
    {
     "name": "stdout",
     "output_type": "stream",
     "text": [
      "***** Use isnull to see if a column or row contain data *****\n",
      "      year   race  percentage_pass\n",
      "165  False  False            False\n",
      "166  False  False            False\n",
      "167  False  False            False\n",
      "168  False  False            False\n",
      "169  False  False            False\n"
     ]
    }
   ],
   "source": [
    "# Handling & cleaning data\n",
    "mydf1 = df.isnull()\n",
    "\n",
    "print(f'***** Use isnull to see if a column or row contain data *****')\n",
    "print(mydf1.iloc[-5:])"
   ]
  },
  {
   "cell_type": "code",
   "execution_count": 19,
   "id": "97ea9ba1",
   "metadata": {},
   "outputs": [
    {
     "name": "stdout",
     "output_type": "stream",
     "text": [
      "     year     race  percentage_pass\n",
      "0    1987    Malay             58.9\n",
      "1    1987  Chinese             75.4\n",
      "2    1987   Indian             72.7\n",
      "3    1987   Others             67.6\n",
      "4    1987  Overall             74.2\n",
      "..    ...      ...              ...\n",
      "165  2020    Malay             89.3\n",
      "166  2020  Chinese             94.5\n",
      "167  2020   Indian             89.2\n",
      "168  2020   Others             90.3\n",
      "169  2020  Overall             93.7\n",
      "\n",
      "[170 rows x 3 columns]\n"
     ]
    },
    {
     "data": {
      "text/html": [
       "<div>\n",
       "<style scoped>\n",
       "    .dataframe tbody tr th:only-of-type {\n",
       "        vertical-align: middle;\n",
       "    }\n",
       "\n",
       "    .dataframe tbody tr th {\n",
       "        vertical-align: top;\n",
       "    }\n",
       "\n",
       "    .dataframe thead th {\n",
       "        text-align: right;\n",
       "    }\n",
       "</style>\n",
       "<table border=\"1\" class=\"dataframe\">\n",
       "  <thead>\n",
       "    <tr style=\"text-align: right;\">\n",
       "      <th></th>\n",
       "      <th>year</th>\n",
       "      <th>race</th>\n",
       "      <th>percentage_pass</th>\n",
       "    </tr>\n",
       "  </thead>\n",
       "  <tbody>\n",
       "    <tr>\n",
       "      <th>165</th>\n",
       "      <td>2020</td>\n",
       "      <td>Malay</td>\n",
       "      <td>89.3</td>\n",
       "    </tr>\n",
       "    <tr>\n",
       "      <th>166</th>\n",
       "      <td>2020</td>\n",
       "      <td>Chinese</td>\n",
       "      <td>94.5</td>\n",
       "    </tr>\n",
       "    <tr>\n",
       "      <th>167</th>\n",
       "      <td>2020</td>\n",
       "      <td>Indian</td>\n",
       "      <td>89.2</td>\n",
       "    </tr>\n",
       "    <tr>\n",
       "      <th>168</th>\n",
       "      <td>2020</td>\n",
       "      <td>Others</td>\n",
       "      <td>90.3</td>\n",
       "    </tr>\n",
       "    <tr>\n",
       "      <th>169</th>\n",
       "      <td>2020</td>\n",
       "      <td>Overall</td>\n",
       "      <td>93.7</td>\n",
       "    </tr>\n",
       "  </tbody>\n",
       "</table>\n",
       "</div>"
      ],
      "text/plain": [
       "     year     race  percentage_pass\n",
       "165  2020    Malay             89.3\n",
       "166  2020  Chinese             94.5\n",
       "167  2020   Indian             89.2\n",
       "168  2020   Others             90.3\n",
       "169  2020  Overall             93.7"
      ]
     },
     "execution_count": 19,
     "metadata": {},
     "output_type": "execute_result"
    }
   ],
   "source": [
    "mydf1 = df.isnull()\n",
    "\n",
    "mydf2 = df.fillna({'percentage_pass' : df[df['race'] == 'Chinese']['percentage_pass'].mean()}, inplace=False)\n",
    "print(mydf2)\n",
    "\n",
    "mydf2 = mydf2.dropna()\n",
    "mydf2.tail()"
   ]
  },
  {
   "cell_type": "code",
   "execution_count": 34,
   "id": "0ad9cb1e",
   "metadata": {},
   "outputs": [
    {
     "data": {
      "text/plain": [
       "count    170.000000\n",
       "mean      83.445294\n",
       "std        8.771937\n",
       "min       49.300000\n",
       "25%       79.775000\n",
       "50%       86.150000\n",
       "75%       89.175000\n",
       "max       95.000000\n",
       "Name: percentage_pass, dtype: float64"
      ]
     },
     "execution_count": 34,
     "metadata": {},
     "output_type": "execute_result"
    }
   ],
   "source": [
    "# We use .describe() method to get the summary statistics of all numeric variables/features\n",
    "mydf2.percentage_pass.describe()"
   ]
  },
  {
   "cell_type": "markdown",
   "id": "d9d0204e",
   "metadata": {},
   "source": [
    "### Splitting the races by group for analysis"
   ]
  },
  {
   "cell_type": "code",
   "execution_count": 39,
   "id": "f3ba821b",
   "metadata": {},
   "outputs": [
    {
     "data": {
      "text/html": [
       "<div>\n",
       "<style scoped>\n",
       "    .dataframe tbody tr th:only-of-type {\n",
       "        vertical-align: middle;\n",
       "    }\n",
       "\n",
       "    .dataframe tbody tr th {\n",
       "        vertical-align: top;\n",
       "    }\n",
       "\n",
       "    .dataframe thead th {\n",
       "        text-align: right;\n",
       "    }\n",
       "</style>\n",
       "<table border=\"1\" class=\"dataframe\">\n",
       "  <thead>\n",
       "    <tr style=\"text-align: right;\">\n",
       "      <th></th>\n",
       "      <th>percentage_pass</th>\n",
       "    </tr>\n",
       "    <tr>\n",
       "      <th>race</th>\n",
       "      <th></th>\n",
       "    </tr>\n",
       "  </thead>\n",
       "  <tbody>\n",
       "    <tr>\n",
       "      <th>Chinese</th>\n",
       "      <td>87.223529</td>\n",
       "    </tr>\n",
       "    <tr>\n",
       "      <th>Indian</th>\n",
       "      <td>83.185294</td>\n",
       "    </tr>\n",
       "    <tr>\n",
       "      <th>Malay</th>\n",
       "      <td>73.667647</td>\n",
       "    </tr>\n",
       "    <tr>\n",
       "      <th>Others</th>\n",
       "      <td>86.852941</td>\n",
       "    </tr>\n",
       "    <tr>\n",
       "      <th>Overall</th>\n",
       "      <td>86.297059</td>\n",
       "    </tr>\n",
       "  </tbody>\n",
       "</table>\n",
       "</div>"
      ],
      "text/plain": [
       "         percentage_pass\n",
       "race                    \n",
       "Chinese        87.223529\n",
       "Indian         83.185294\n",
       "Malay          73.667647\n",
       "Others         86.852941\n",
       "Overall        86.297059"
      ]
     },
     "execution_count": 39,
     "metadata": {},
     "output_type": "execute_result"
    }
   ],
   "source": [
    "# Caculate the means for each race group\n",
    "mydf2[['race','percentage_pass']].groupby('race').mean()"
   ]
  },
  {
   "cell_type": "markdown",
   "id": "432aea8c",
   "metadata": {},
   "source": [
    "## Data visualization"
   ]
  },
  {
   "cell_type": "markdown",
   "id": "421867a4",
   "metadata": {},
   "source": [
    "#### Time series line chart for overall percentage_pass rate"
   ]
  },
  {
   "cell_type": "code",
   "execution_count": 83,
   "id": "cda22c93",
   "metadata": {},
   "outputs": [
    {
     "name": "stdout",
     "output_type": "stream",
     "text": [
      "    year     race  percentage_pass\n",
      "4   1987  Overall             74.2\n",
      "9   1988  Overall             72.5\n",
      "14  1989  Overall             68.6\n",
      "19  1990  Overall             76.5\n",
      "24  1991  Overall             83.1\n"
     ]
    },
    {
     "data": {
      "text/plain": [
       "Text(0, 0.5, 'Percentage of pass')"
      ]
     },
     "execution_count": 83,
     "metadata": {},
     "output_type": "execute_result"
    },
    {
     "data": {
      "image/png": "[encoded data removed]",
      "text/plain": [
       "<Figure size 432x288 with 1 Axes>"
      ]
     },
     "metadata": {
      "needs_background": "light"
     },
     "output_type": "display_data"
    }
   ],
   "source": [
    "import matplotlib.pyplot as plt\n",
    "race_Overall = mydf2[mydf2['race'] == 'Overall']\n",
    "print(race_Overall.head())\n",
    "\n",
    "plt.bar(race_Overall.year, race_Overall.percentage_pass)\n",
    "plt.xticks(rotation=90)\n",
    "plt.title('Overall pass percentage over the years')\n",
    "plt.xlabel('year')\n",
    "plt.ylabel('Percentage of pass')"
   ]
  },
  {
   "cell_type": "markdown",
   "id": "3910a2de",
   "metadata": {},
   "source": [
    "#### Time series line chart for different group of races on percentage_pass"
   ]
  },
  {
   "cell_type": "code",
   "execution_count": 86,
   "id": "0c19e4eb",
   "metadata": {},
   "outputs": [
    {
     "data": {
      "image/png": "[encoded data removed]",
      "text/plain": [
       "<Figure size 864x288 with 1 Axes>"
      ]
     },
     "metadata": {
      "needs_background": "light"
     },
     "output_type": "display_data"
    }
   ],
   "source": [
    "# split by race for grouping\n",
    "race_Overall = mydf2[mydf2['race'] == 'Overall']\n",
    "race_Chinese = mydf2[mydf2['race'] == 'Chinese']\n",
    "race_Indian = mydf2[mydf2['race'] == 'Indian']\n",
    "race_Malay = mydf2[mydf2['race'] == 'Malay']\n",
    "race_Others = mydf2[mydf2['race'] == 'Others']\n",
    "\n",
    "fig = plt.figure(figsize=(12, 4))\n",
    "fig.suptitle('Pass rate', fontsize=16, ha='center')\n",
    "\n",
    "ax = fig.add_subplot(111)\n",
    "ax.plot(race_Overall.year, race_Overall.percentage_pass, label = \"Overall\",color='#8A2BE2')\n",
    "ax.plot(race_Chinese.year, race_Chinese.percentage_pass, label = \"Chinese\",color='red')\n",
    "ax.plot(race_Indian.year, race_Indian.percentage_pass, label = \"Indian\", color='#2E5984')\n",
    "ax.plot(race_Malay.year, race_Malay.percentage_pass, label = \"Malay\", color='#8B3E2F')\n",
    "ax.plot(race_Others.year, race_Others.percentage_pass, label = \"Others\", color='green')\n",
    "\n",
    "ax.set_title('by group of race')\n",
    "ax.set_xlabel('year')\n",
    "ax.set_ylabel('percentage')\n",
    "plt.text(2005, 60, 'the gaps among different races reduced over yeras', bbox={'facecolor':'red', 'alpha':0.5, 'pad':5})\n",
    "\n",
    "plt.legend()\n",
    "plt.show()"
   ]
  },
  {
   "cell_type": "markdown",
   "id": "2523054a",
   "metadata": {},
   "source": [
    "#### Box Plots for different race"
   ]
  },
  {
   "cell_type": "code",
   "execution_count": null,
   "id": "6e9c6565",
   "metadata": {},
   "outputs": [],
   "source": [
    "#set up the labels on the x-axis\n",
    "x_labels = np.array(['Overall', 'Chinese', 'Indian', 'Malay', 'Others'])\n",
    "#x_ticks = np.arange(len(x_labels))\n",
    "#plt.xticks()\n",
    "\n",
    "#set up the labels on the axises and title\n",
    "plt.title('Median Rentals in Orchard, Outside Central Area and Central Area')\n",
    "plt.xlabel('Locality', fontsize=20, labelpad=20)\n",
    "plt.ylabel('$psf', fontsize=20, labelpad=20)\n",
    "\n",
    "plt.boxplot(y_values.transpose(),labels=x_labels, patch_artist=False)\n",
    "plt.show()"
   ]
  },
  {
   "cell_type": "code",
   "execution_count": 108,
   "id": "27e4467f",
   "metadata": {},
   "outputs": [
    {
     "data": {
      "image/png": "[encoded data removed]",
      "text/plain": [
       "<Figure size 432x288 with 1 Axes>"
      ]
     },
     "metadata": {
      "needs_background": "light"
     },
     "output_type": "display_data"
    }
   ],
   "source": [
    "#set up the values\n",
    "race_Overall_rate = mydf2[mydf2['race'] == 'Overall']['percentage_pass']\n",
    "race_Chinese_rate = mydf2[mydf2['race'] == 'Chinese']['percentage_pass']\n",
    "race_Indian_rate = mydf2[mydf2['race'] == 'Indian']['percentage_pass']\n",
    "race_Malay_rate = mydf2[mydf2['race'] == 'Malay']['percentage_pass']\n",
    "race_Others_rate = mydf2[mydf2['race'] == 'Others']['percentage_pass']\n",
    "\n",
    "y_values = np.array([race_Chinese_rate, race_Indian_rate, race_Malay_rate, race_Others_rate])\n",
    "\n",
    "#set up the labels on the x-axis\n",
    "x_labels = np.array(['Chinese', 'Indian', 'Malay', 'Others'])\n",
    "x_ticks = np.arange(len(x_labels))\n",
    "plt.xticks()\n",
    "\n",
    "#set up the labels on the axises and title\n",
    "plt.title('Percentage of pass with at laest 3A or H2 by race')\n",
    "plt.xlabel('Race', fontsize=20, labelpad=20)\n",
    "plt.ylabel('Percentage', fontsize=20, labelpad=20)\n",
    "\n",
    "plt.boxplot(y_values.transpose(),labels=x_labels, patch_artist=True)\n",
    "plt.show()"
   ]
  },
  {
   "cell_type": "markdown",
   "id": "33be384a",
   "metadata": {},
   "source": [
    "#### Interpreting the visualization"
   ]
  },
  {
   "cell_type": "raw",
   "id": "c377a73f",
   "metadata": {},
   "source": [
    "From the Box plot, we can see Malay stusdents have the bigger viaration and other races have the smallest viaration over the years."
   ]
  }
 ],
 "metadata": {
  "kernelspec": {
   "display_name": "Python 3 (ipykernel)",
   "language": "python",
   "name": "python3"
  },
  "language_info": {
   "codemirror_mode": {
    "name": "ipython",
    "version": 3
   },
   "file_extension": ".py",
   "mimetype": "text/x-python",
   "name": "python",
   "nbconvert_exporter": "python",
   "pygments_lexer": "ipython3",
   "version": "3.8.11"
  }
 },
 "nbformat": 4,
 "nbformat_minor": 5
}
